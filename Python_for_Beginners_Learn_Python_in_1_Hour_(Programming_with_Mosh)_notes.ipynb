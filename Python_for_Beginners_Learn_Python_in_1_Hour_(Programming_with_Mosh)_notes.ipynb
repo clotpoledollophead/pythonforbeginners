{
  "nbformat": 4,
  "nbformat_minor": 0,
  "metadata": {
    "colab": {
      "provenance": [],
      "authorship_tag": "ABX9TyP+Unqpc849g8AdAUfSV/lc",
      "include_colab_link": true
    },
    "kernelspec": {
      "name": "python3",
      "display_name": "Python 3"
    },
    "language_info": {
      "name": "python"
    }
  },
  "cells": [
    {
      "cell_type": "markdown",
      "metadata": {
        "id": "view-in-github",
        "colab_type": "text"
      },
      "source": [
        "<a href=\"https://colab.research.google.com/github/clotpoledollophead/pythonforbeginners/blob/main/Python_for_Beginners_Learn_Python_in_1_Hour_(Programming_with_Mosh)_notes.ipynb\" target=\"_parent\"><img src=\"https://colab.research.google.com/assets/colab-badge.svg\" alt=\"Open In Colab\"/></a>"
      ]
    },
    {
      "cell_type": "markdown",
      "source": [
        "**Hello World**"
      ],
      "metadata": {
        "id": "vldTipq1aS4n"
      }
    },
    {
      "cell_type": "code",
      "execution_count": null,
      "metadata": {
        "id": "eQndohHmZw8A"
      },
      "outputs": [],
      "source": [
        "print(\"Hello World!\")"
      ]
    },
    {
      "cell_type": "markdown",
      "source": [
        "**Variables**"
      ],
      "metadata": {
        "id": "AOo2-jdlabXt"
      }
    },
    {
      "cell_type": "code",
      "source": [
        "age = 20\n",
        "print(age)"
      ],
      "metadata": {
        "id": "6QNfhwa8aR4G"
      },
      "execution_count": null,
      "outputs": []
    },
    {
      "cell_type": "code",
      "source": [
        "age = 20\n",
        "age = 30\n",
        "print(age)"
      ],
      "metadata": {
        "id": "c6PeW0iQamsz"
      },
      "execution_count": null,
      "outputs": []
    },
    {
      "cell_type": "code",
      "source": [
        "age = 20\n",
        "price = 19.95\n",
        "first_name = \"Mosh\"\n",
        "is_online = False\n",
        "print(age)"
      ],
      "metadata": {
        "id": "Cidu_vsWarnk"
      },
      "execution_count": null,
      "outputs": []
    },
    {
      "cell_type": "markdown",
      "source": [
        "*Exercise*\n",
        "\n",
        "Declare variables to store the values below:\n",
        "\n",
        "\n",
        "*   We check in a patient named John Smith\n",
        "*   He is 20 years old\n",
        "*   He is a new patient\n",
        "\n"
      ],
      "metadata": {
        "id": "ysIFptOgbCK7"
      }
    },
    {
      "cell_type": "code",
      "source": [
        "name = \"John Smith\"\n",
        "age = 20\n",
        "new = True\n",
        "print(name)\n",
        "print(age)\n",
        "print(new)"
      ],
      "metadata": {
        "colab": {
          "base_uri": "https://localhost:8080/"
        },
        "id": "CzJwPUdwbGV4",
        "outputId": "9752696f-5965-4f2c-e1c9-180ac76368de"
      },
      "execution_count": null,
      "outputs": [
        {
          "output_type": "stream",
          "name": "stdout",
          "text": [
            "John Smith\n",
            "20\n",
            "True\n"
          ]
        }
      ]
    },
    {
      "cell_type": "markdown",
      "source": [
        "**Receiving Input**"
      ],
      "metadata": {
        "id": "kFC21iRgcbpU"
      }
    },
    {
      "cell_type": "code",
      "source": [
        "name = input(\"What is your name? \")\n",
        "print(\"Hello \" + name) \n",
        "# using the hash sign means \"string concatenation\""
      ],
      "metadata": {
        "id": "4A3wdBWZcf16"
      },
      "execution_count": null,
      "outputs": []
    },
    {
      "cell_type": "markdown",
      "source": [
        "**Type Conversion**"
      ],
      "metadata": {
        "id": "0UhjuLP6dFgv"
      }
    },
    {
      "cell_type": "code",
      "source": [
        "birth_year = input(\"Enter your birth year: \")\n",
        "# We convert birth_year from str to int\n",
        "age = 2023 - int(birth_year)\n",
        "print(age)\n",
        "\n",
        "# int, float, bool, str"
      ],
      "metadata": {
        "id": "YNRrBtLYdIFb"
      },
      "execution_count": null,
      "outputs": []
    },
    {
      "cell_type": "markdown",
      "source": [
        "*Exercise*\n",
        "\n",
        "Write a basic calculator program to get the sum of two numbers"
      ],
      "metadata": {
        "id": "lsvmuBsQeHaH"
      }
    },
    {
      "cell_type": "code",
      "source": [
        "first_num = input(\"First: \")\n",
        "second_num = input(\"Second: \")\n",
        "sum = float(first_num) + float(second_num)\n",
        "print(\"Sum: \" + str(sum))"
      ],
      "metadata": {
        "id": "opgUH6YQeVsq"
      },
      "execution_count": null,
      "outputs": []
    },
    {
      "cell_type": "markdown",
      "source": [
        "Alternate solution:\n",
        "\n",
        "```\n",
        "first = float(input(\"First: \"))\n",
        "second = float(input(\"Second: \"))\n",
        "sum = first + second\n",
        "print(\"Sum: \" + str(sum))\n",
        "```\n",
        "\n"
      ],
      "metadata": {
        "id": "d3YvCSzvfXCT"
      }
    },
    {
      "cell_type": "markdown",
      "source": [
        "**Strings**"
      ],
      "metadata": {
        "id": "eiq7nhOGf-WT"
      }
    },
    {
      "cell_type": "code",
      "source": [
        "course = 'Python for Beginners'\n",
        "# the string variable \"course\" is also a \"string object\"\n",
        "# which has a lot of capabilities/functions\n",
        "# if we type a \".\" after the variable\n",
        "# we can add these capabilities/functions\n",
        "# we refer to these capabilities/functions as \"methods\"\n",
        "print(course.upper())\n",
        "print(course)\n",
        "# as seen, these methods do not affect the original variable"
      ],
      "metadata": {
        "id": "KzpU5jmbgCE3"
      },
      "execution_count": null,
      "outputs": []
    },
    {
      "cell_type": "code",
      "source": [
        "course = 'Python for Beginners'\n",
        "print(course.find('y'))\n",
        "print(course.find('Y'))\n",
        "print(course.find('for'))\n",
        "# the function up above shows the index of the character"
      ],
      "metadata": {
        "id": "zDniKxZahQar"
      },
      "execution_count": null,
      "outputs": []
    },
    {
      "cell_type": "code",
      "source": [
        "course = 'Python for Beginners'\n",
        "print(course.replace('for', '4'))"
      ],
      "metadata": {
        "id": "AEAu6Mj0hrV4"
      },
      "execution_count": null,
      "outputs": []
    },
    {
      "cell_type": "code",
      "source": [
        "course = 'Python for Beginners'\n",
        "print(course.find('Python'))\n",
        "\n",
        "# now we check if \"Python\" is in the string \"course\"\n",
        "print('Python' in course)"
      ],
      "metadata": {
        "id": "dnRJFB0rh-im"
      },
      "execution_count": null,
      "outputs": []
    },
    {
      "cell_type": "markdown",
      "source": [
        "**Arithmetic Operations**"
      ],
      "metadata": {
        "id": "8poMpC-iigGb"
      }
    },
    {
      "cell_type": "code",
      "source": [
        "# addition\n",
        "print(10 + 3)\n",
        "\n",
        "# subtraction\n",
        "print(10 - 3)\n",
        "\n",
        "# multiplication\n",
        "print(10 * 3)\n",
        "\n",
        "#division (float)\n",
        "print(10 / 3)\n",
        "\n",
        "#division (int)\n",
        "print(10 // 3)\n",
        "\n",
        "#remainder\n",
        "print(10 % 3)\n",
        "\n",
        "#exponent\n",
        "print(10 ** 3)"
      ],
      "metadata": {
        "id": "bGYXmtm7ii0V"
      },
      "execution_count": null,
      "outputs": []
    },
    {
      "cell_type": "code",
      "source": [
        "x = 10\n",
        "x = x + 3\n",
        "print(x)\n",
        "\n",
        "y = 10\n",
        "# the augmented assignment operator\n",
        "y += 3\n",
        "# more examples: \"-=\", \"*=\", etc.\n",
        "print(y)"
      ],
      "metadata": {
        "id": "pzQl-YiojU4Q"
      },
      "execution_count": null,
      "outputs": []
    },
    {
      "cell_type": "markdown",
      "source": [
        "**Operator Precedence**"
      ],
      "metadata": {
        "id": "BjEwRZEDj-tg"
      }
    },
    {
      "cell_type": "code",
      "source": [
        "x = 10 + 3 * 2\n",
        "print(x)\n",
        "\n",
        "y = (10 + 3) * 2\n",
        "print(y)"
      ],
      "metadata": {
        "id": "Nt8c3M3ukCeV"
      },
      "execution_count": null,
      "outputs": []
    },
    {
      "cell_type": "markdown",
      "source": [
        "**Comparison Operators**"
      ],
      "metadata": {
        "id": "aE_5unACkS0z"
      }
    },
    {
      "cell_type": "code",
      "source": [
        "x = 3 > 2\n",
        "print(x)\n",
        "# this returns a boolean value\n",
        "# the comparison operators: \">\", \"<\". \">=\", \"<=\", \"==\", \"!=\""
      ],
      "metadata": {
        "id": "Kkrvsn6okWGr"
      },
      "execution_count": null,
      "outputs": []
    },
    {
      "cell_type": "markdown",
      "source": [
        "**Logical Operators**"
      ],
      "metadata": {
        "id": "FIDK5tCVlGNm"
      }
    },
    {
      "cell_type": "code",
      "source": [
        "price = 25\n",
        "print(not price > 10)\n",
        "\n",
        "# the logical operators:\n",
        "# \"and\"(both), \"or\"(at least one), \"not\"(inverses bool value given)"
      ],
      "metadata": {
        "id": "HisDA4cllJcW"
      },
      "execution_count": null,
      "outputs": []
    },
    {
      "cell_type": "markdown",
      "source": [
        "**If Statements**"
      ],
      "metadata": {
        "id": "1TjWcI-rl8bS"
      }
    },
    {
      "cell_type": "code",
      "source": [
        "temperature = 35\n",
        "\n",
        "if temperature > 30:\n",
        "  print(\"It's a hot day\")\n",
        "  print(\"Drink plenty of water\")\n",
        "elif temperature > 20: \n",
        "  # this indicates that: temperature is within the range (20, 30]\n",
        "  print(\"It's a nice day\")\n",
        "elif temperature > 10:\n",
        "  # this indicates that: temperature is within the range (10, 20]\n",
        "  print(\"It's a bit cold\")\n",
        "else:\n",
        "  print(\"It's cold\")\n",
        "  \n",
        "print(\"Done\")"
      ],
      "metadata": {
        "id": "cYhdXwMhl_W2"
      },
      "execution_count": null,
      "outputs": []
    },
    {
      "cell_type": "markdown",
      "source": [
        "*Exercise*\n",
        "\n",
        "Write a weight converter program that converts kg to lbs and vice versa.\n",
        "\n",
        "Example Output:\n",
        "```\n",
        "Weight: 170\n",
        "(K)g or (L)bs: l\n",
        "Weight in Kg: 76.5\n",
        "```\n",
        "tip: \n",
        "1 kg = 2.20462262 lb\n"
      ],
      "metadata": {
        "id": "D_q0vkJMnb_K"
      }
    },
    {
      "cell_type": "code",
      "source": [
        "weight = float(input(\"Weight: \"))\n",
        "unit = input(\"(K)g or (L)bs: \")\n",
        "if unit == \"K\" or unit == \"k\":\n",
        "  ans = weight * 2.20462262\n",
        "  print(\"Weight in Lbs: \" + str(ans))\n",
        "elif unit == \"L\" or unit == \"l\":\n",
        "  ans = weight / 2.20462262\n",
        "  print(\"Weight in Kg: \" + str(ans))\n",
        "else:\n",
        "  print(\"error\")"
      ],
      "metadata": {
        "id": "4BQL--nFn70q"
      },
      "execution_count": null,
      "outputs": []
    },
    {
      "cell_type": "markdown",
      "source": [
        "Alternate solution:\n",
        "```\n",
        "weight = int(input(\"Weight: \"))\n",
        "unit = input(\"(K)g or (L)bs: \")\n",
        "if unit.upper() == \"K\":\n",
        "  converted = weight / 0.45\n",
        "  print(\"Weight in Lbs: \" + str(converted))\n",
        "else:\n",
        "  converted = weight * 0.45\n",
        "  print(\"Weight in Kgs: \" + str(converted))\n",
        "```\n",
        "\n"
      ],
      "metadata": {
        "id": "C0tyMIpBqfIh"
      }
    },
    {
      "cell_type": "markdown",
      "source": [
        "**While Loops**"
      ],
      "metadata": {
        "id": "s0ejZowXrjwy"
      }
    },
    {
      "cell_type": "code",
      "source": [
        "i = 1\n",
        "while i <= 10:\n",
        "  print(i)\n",
        "  i += 1"
      ],
      "metadata": {
        "id": "PaolUCTksey3"
      },
      "execution_count": null,
      "outputs": []
    },
    {
      "cell_type": "code",
      "source": [
        "i = 1\n",
        "while i <= 10:\n",
        "  print(i * '*')\n",
        "  i += 1"
      ],
      "metadata": {
        "id": "Z2CxporvrmOX"
      },
      "execution_count": null,
      "outputs": []
    },
    {
      "cell_type": "markdown",
      "source": [
        "**Lists**"
      ],
      "metadata": {
        "id": "XcHy_Uo9sh9C"
      }
    },
    {
      "cell_type": "code",
      "source": [
        "names = [\"John\", \"Bob\", \"Mosh\", \"Sam\", \"Mary\"]\n",
        "print(names)"
      ],
      "metadata": {
        "id": "1T1S6MSksjcj"
      },
      "execution_count": null,
      "outputs": []
    },
    {
      "cell_type": "code",
      "source": [
        "names = [\"John\", \"Bob\", \"Mosh\", \"Sam\", \"Mary\"]\n",
        "print(names[0])\n",
        "print(names[-1])"
      ],
      "metadata": {
        "id": "OhRy-Yf1szLB"
      },
      "execution_count": null,
      "outputs": []
    },
    {
      "cell_type": "code",
      "source": [
        "names = [\"John\", \"Bob\", \"Mosh\", \"Sam\", \"Mary\"]\n",
        "names[0] = \"Jon\"\n",
        "print(names)"
      ],
      "metadata": {
        "id": "Fef101MutEM4"
      },
      "execution_count": null,
      "outputs": []
    },
    {
      "cell_type": "code",
      "source": [
        "names = [\"John\", \"Bob\", \"Mosh\", \"Sam\", \"Mary\"]\n",
        "names[0] = \"Jon\"\n",
        "print(names[0:3])\n",
        "# this prints the first index but excludes the final index\n",
        "# this expression also does not modify the original list\n",
        "# but it returns a new list"
      ],
      "metadata": {
        "id": "EhRSOgQhtPP8"
      },
      "execution_count": null,
      "outputs": []
    },
    {
      "cell_type": "markdown",
      "source": [
        "**List Methods**"
      ],
      "metadata": {
        "id": "w740QjTztpYS"
      }
    },
    {
      "cell_type": "code",
      "source": [
        "# the \"append\" method\n",
        "numbers = [1, 2, 3, 4, 5]\n",
        "numbers.append(6)\n",
        "print(numbers)"
      ],
      "metadata": {
        "id": "h8NEiEWbtrUH"
      },
      "execution_count": null,
      "outputs": []
    },
    {
      "cell_type": "code",
      "source": [
        "# the \"insert\" method\n",
        "numbers = [1, 2, 3, 4, 5]\n",
        "numbers.insert(0, -1)\n",
        "# we can insert any type of object (ex: number, bool, str, list)\n",
        "print(numbers)"
      ],
      "metadata": {
        "id": "hmZBIte_t7YY"
      },
      "execution_count": null,
      "outputs": []
    },
    {
      "cell_type": "code",
      "source": [
        "# the \"remove\" method\n",
        "# removes stuff from the list\n",
        "numbers = [1, 2, 3, 4, 5]\n",
        "numbers.remove(3)\n",
        "print(numbers)"
      ],
      "metadata": {
        "id": "f01UTySvuuHy"
      },
      "execution_count": null,
      "outputs": []
    },
    {
      "cell_type": "code",
      "source": [
        "# the \"clear\" method\n",
        "# clears the entire list\n",
        "numbers = [1, 2, 3, 4, 5]\n",
        "numbers.clear()\n",
        "print(numbers)"
      ],
      "metadata": {
        "id": "y85MGpUDuyco"
      },
      "execution_count": null,
      "outputs": []
    },
    {
      "cell_type": "code",
      "source": [
        "# the \"in\" operator\n",
        "numbers = [1, 2, 3, 4, 5]\n",
        "print(10 in numbers)\n",
        "# the above returns a boolean value"
      ],
      "metadata": {
        "id": "1Ppu4tUYvFNM"
      },
      "execution_count": null,
      "outputs": []
    },
    {
      "cell_type": "code",
      "source": [
        "# the \"len\" function\n",
        "# returns the length of the list\n",
        "numbers = [1, 2, 3, 4, 5]\n",
        "print(len(numbers))"
      ],
      "metadata": {
        "id": "XgIXB0YVwN7a"
      },
      "execution_count": null,
      "outputs": []
    },
    {
      "cell_type": "markdown",
      "source": [
        "**For Loops**"
      ],
      "metadata": {
        "id": "fc9mFr_jwnqx"
      }
    },
    {
      "cell_type": "code",
      "source": [
        "numbers = [1, 2, 3, 4, 5]\n",
        "for item in numbers:\n",
        "  print(item)"
      ],
      "metadata": {
        "id": "Bdze5ZzGwqwF"
      },
      "execution_count": null,
      "outputs": []
    },
    {
      "cell_type": "markdown",
      "source": [
        "This can also be written as a while loop as shown below:\n",
        "```\n",
        "i = 0\n",
        "while i < len(numbers):\n",
        "  print(numbers[i])\n",
        "  i += 1\n",
        "```\n",
        "\n"
      ],
      "metadata": {
        "id": "OzlxIVeVxLiq"
      }
    },
    {
      "cell_type": "markdown",
      "source": [
        "**The range() Function**"
      ],
      "metadata": {
        "id": "xeFnlSRkxwRQ"
      }
    },
    {
      "cell_type": "code",
      "source": [
        "range(5)\n",
        "# this returns a \"range object\"\n",
        "# which can store a sequence of numbers"
      ],
      "metadata": {
        "id": "vgisD805x1nF"
      },
      "execution_count": null,
      "outputs": []
    },
    {
      "cell_type": "code",
      "source": [
        "numbers = range(5)\n",
        "print(numbers)"
      ],
      "metadata": {
        "id": "A4TEy-y6yA93"
      },
      "execution_count": null,
      "outputs": []
    },
    {
      "cell_type": "code",
      "source": [
        "numbers = range(5)\n",
        "for number in numbers:\n",
        "  print(number)"
      ],
      "metadata": {
        "id": "uxYzU5-ayTDg"
      },
      "execution_count": null,
      "outputs": []
    },
    {
      "cell_type": "code",
      "source": [
        "numbers = range(5, 10)\n",
        "# range(starting value, ending value)\n",
        "# the starting value is included\n",
        "# but the ending value is excluded\n",
        "for number in numbers:\n",
        "  print(number)"
      ],
      "metadata": {
        "id": "_f3nMWVVybiQ"
      },
      "execution_count": null,
      "outputs": []
    },
    {
      "cell_type": "code",
      "source": [
        "numbers = range(5, 10, 2)\n",
        "# range(starting value, ending value, increment)\n",
        "for number in numbers:\n",
        "  print(number)"
      ],
      "metadata": {
        "id": "ZMFN8MI4yoD0"
      },
      "execution_count": null,
      "outputs": []
    },
    {
      "cell_type": "code",
      "source": [
        "for number in range(5):\n",
        "  print(number)"
      ],
      "metadata": {
        "id": "CkDCfvYsy6KH"
      },
      "execution_count": null,
      "outputs": []
    },
    {
      "cell_type": "markdown",
      "source": [
        "**Tuples**\n",
        "\n",
        "(*tuples* are like *lists*, but we cannot change them once we create them, aka immutable)"
      ],
      "metadata": {
        "id": "H39keuXVzbwW"
      }
    },
    {
      "cell_type": "code",
      "source": [
        "numbers = (1, 2, 3, 3)\n",
        "numbers.count(3)"
      ],
      "metadata": {
        "id": "CF7lTrX8zdh5"
      },
      "execution_count": null,
      "outputs": []
    },
    {
      "cell_type": "code",
      "source": [
        "numbers = (1, 2, 3, 3)\n",
        "numbers.index(3)"
      ],
      "metadata": {
        "id": "2Z9J5jB30hRZ"
      },
      "execution_count": null,
      "outputs": []
    }
  ]
}