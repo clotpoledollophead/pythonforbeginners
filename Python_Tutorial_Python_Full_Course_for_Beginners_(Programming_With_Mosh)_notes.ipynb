{
  "nbformat": 4,
  "nbformat_minor": 0,
  "metadata": {
    "colab": {
      "provenance": [],
      "authorship_tag": "ABX9TyNPix6dkbbTUc94MV9CkYlw",
      "include_colab_link": true
    },
    "kernelspec": {
      "name": "python3",
      "display_name": "Python 3"
    },
    "language_info": {
      "name": "python"
    }
  },
  "cells": [
    {
      "cell_type": "markdown",
      "metadata": {
        "id": "view-in-github",
        "colab_type": "text"
      },
      "source": [
        "<a href=\"https://colab.research.google.com/github/clotpoledollophead/pythonforbeginners/blob/main/Python_Tutorial_Python_Full_Course_for_Beginners_(Programming_With_Mosh)_notes.ipynb\" target=\"_parent\"><img src=\"https://colab.research.google.com/assets/colab-badge.svg\" alt=\"Open In Colab\"/></a>"
      ]
    },
    {
      "cell_type": "markdown",
      "source": [
        "**Variables**"
      ],
      "metadata": {
        "id": "9oaKYwarf1q-"
      }
    },
    {
      "cell_type": "code",
      "execution_count": null,
      "metadata": {
        "colab": {
          "base_uri": "https://localhost:8080/"
        },
        "id": "t3yLjDhafMpj",
        "outputId": "81f3511f-31f4-47e1-b437-b466fea43228"
      },
      "outputs": [
        {
          "output_type": "stream",
          "name": "stdout",
          "text": [
            "10\n"
          ]
        }
      ],
      "source": [
        "price = 10\n",
        "print(price)"
      ]
    },
    {
      "cell_type": "code",
      "source": [
        "price = 10\n",
        "price = 20\n",
        "print(price)"
      ],
      "metadata": {
        "colab": {
          "base_uri": "https://localhost:8080/"
        },
        "id": "AH80EEGWgJad",
        "outputId": "a7215dfe-ced5-4946-99af-0d243d37ec9f"
      },
      "execution_count": null,
      "outputs": [
        {
          "output_type": "stream",
          "name": "stdout",
          "text": [
            "20\n"
          ]
        }
      ]
    },
    {
      "cell_type": "code",
      "source": [
        "price = 10 # integer\n",
        "rating = 4.0 # floating point\n",
        "name = 'Mosh' # string\n",
        "is_published = True # Boolean"
      ],
      "metadata": {
        "id": "4DlCQDMogQod"
      },
      "execution_count": null,
      "outputs": []
    },
    {
      "cell_type": "markdown",
      "source": [
        "*Exercise*\n",
        "\n",
        "We check in a patient named John Smith.\n",
        "He's 20 years old and is a new patient."
      ],
      "metadata": {
        "id": "P9M_H3zHgwl4"
      }
    },
    {
      "cell_type": "code",
      "source": [
        "name = \"John Smith\"\n",
        "age = 20\n",
        "is_new = True\n",
        "\n",
        "print(name)\n",
        "print(age)\n",
        "print(is_new)"
      ],
      "metadata": {
        "colab": {
          "base_uri": "https://localhost:8080/"
        },
        "id": "X6G3B6ZThO0g",
        "outputId": "70111bbd-dbeb-4381-a757-bef736104de4"
      },
      "execution_count": null,
      "outputs": [
        {
          "output_type": "stream",
          "name": "stdout",
          "text": [
            "John Smith\n",
            "20\n",
            "True\n"
          ]
        }
      ]
    },
    {
      "cell_type": "markdown",
      "source": [
        "**Receiving Input**"
      ],
      "metadata": {
        "id": "-TKUJh14hezP"
      }
    },
    {
      "cell_type": "code",
      "source": [
        "name = input('What is your name? ')\n",
        "print('Hi ' + name)"
      ],
      "metadata": {
        "colab": {
          "base_uri": "https://localhost:8080/"
        },
        "id": "dgMaULxIhhH5",
        "outputId": "30345b41-7a59-4871-f19f-2288bd0f6d08"
      },
      "execution_count": null,
      "outputs": [
        {
          "output_type": "stream",
          "name": "stdout",
          "text": [
            "What is your name? ExampleName\n",
            "Hi ExampleName\n"
          ]
        }
      ]
    },
    {
      "cell_type": "markdown",
      "source": [
        "*Exercise*\n",
        "\n",
        "Ask two questions: Person's name and favorite color. Then, print a message like \"Mosh likes blue\""
      ],
      "metadata": {
        "id": "b2WIdlYLiAwD"
      }
    },
    {
      "cell_type": "code",
      "source": [
        "name = input('What is your name? ')\n",
        "color = input('What is your favorite color? ')\n",
        "print(name + ' likes ' + color)"
      ],
      "metadata": {
        "colab": {
          "base_uri": "https://localhost:8080/"
        },
        "id": "0cQbSqH0iMut",
        "outputId": "d30c6134-ca4a-4fb1-a67e-452ab06d8cb7"
      },
      "execution_count": null,
      "outputs": [
        {
          "output_type": "stream",
          "name": "stdout",
          "text": [
            "What is your name? Mosh\n",
            "What is your favorite color? blue\n",
            "Mosh likes blue\n"
          ]
        }
      ]
    },
    {
      "cell_type": "markdown",
      "source": [
        "*Type Conversion*"
      ],
      "metadata": {
        "id": "EZ6DAFEEixkk"
      }
    },
    {
      "cell_type": "code",
      "source": [
        "birth_year = int(input('Birth year: '))\n",
        "age = 2023 - birth_year\n",
        "print(age)"
      ],
      "metadata": {
        "colab": {
          "base_uri": "https://localhost:8080/"
        },
        "id": "rDcI73NGizbV",
        "outputId": "38029c9d-4a30-44da-b8ff-91cf27ca66bd"
      },
      "execution_count": null,
      "outputs": [
        {
          "output_type": "stream",
          "name": "stdout",
          "text": [
            "Birth year: 2003\n",
            "20\n"
          ]
        }
      ]
    },
    {
      "cell_type": "code",
      "source": [
        "birth_year = input('Birth year: ')\n",
        "print(type(birth_year))\n",
        "age = 2023 - int(birth_year)\n",
        "print(type(age))\n",
        "print(age)"
      ],
      "metadata": {
        "colab": {
          "base_uri": "https://localhost:8080/"
        },
        "id": "JNNyKm7OjKd-",
        "outputId": "3ddfec15-0b3d-4577-9eb7-876502e47406"
      },
      "execution_count": null,
      "outputs": [
        {
          "output_type": "stream",
          "name": "stdout",
          "text": [
            "Birth year: 2003\n",
            "<class 'str'>\n",
            "<class 'int'>\n",
            "20\n"
          ]
        }
      ]
    },
    {
      "cell_type": "markdown",
      "source": [
        "*Exercise*\n",
        "\n",
        "Ask a user their weight (in pounds), convert it to kilograms and print on the terminal."
      ],
      "metadata": {
        "id": "DTMhsYCUjDt8"
      }
    },
    {
      "cell_type": "code",
      "source": [
        "pounds = int(input('What is your weight in pounds? '))\n",
        "weight = pounds / 2.2046226218\n",
        "print(weight)"
      ],
      "metadata": {
        "colab": {
          "base_uri": "https://localhost:8080/"
        },
        "id": "zN09UYcgjp5j",
        "outputId": "4cb83933-77a9-46c1-8074-fe308dd2a1cf"
      },
      "execution_count": null,
      "outputs": [
        {
          "output_type": "stream",
          "name": "stdout",
          "text": [
            "What is your weight in pounds? 132\n",
            "59.87419284132468\n"
          ]
        }
      ]
    },
    {
      "cell_type": "markdown",
      "source": [
        "**Strings**"
      ],
      "metadata": {
        "id": "HtcUDZUKkHRr"
      }
    },
    {
      "cell_type": "code",
      "source": [
        "course = \"Python's Course for Beginners\"\n",
        "print(course)"
      ],
      "metadata": {
        "colab": {
          "base_uri": "https://localhost:8080/"
        },
        "id": "TeatNO4FkJHm",
        "outputId": "a15a57f6-b756-464a-e1f8-c84e509be0fc"
      },
      "execution_count": null,
      "outputs": [
        {
          "output_type": "stream",
          "name": "stdout",
          "text": [
            "Python's Course for 'Beginners'\n"
          ]
        }
      ]
    },
    {
      "cell_type": "code",
      "source": [
        "course = '''\n",
        "Hi John, \n",
        "\n",
        "Here is our first email to you.\n",
        "\n",
        "Thank you,\n",
        "The support team\n",
        "\n",
        "'''\n",
        "print(course)"
      ],
      "metadata": {
        "colab": {
          "base_uri": "https://localhost:8080/"
        },
        "id": "xZBvzKtDklrx",
        "outputId": "1ff8bf36-055e-4d58-9f8e-858d1fe0b802"
      },
      "execution_count": null,
      "outputs": [
        {
          "output_type": "stream",
          "name": "stdout",
          "text": [
            "\n",
            "Hi John, \n",
            "\n",
            "Here is our first email to you.\n",
            "\n",
            "Thank you,\n",
            "The support team\n",
            "\n",
            "\n"
          ]
        }
      ]
    },
    {
      "cell_type": "code",
      "source": [
        "course = 'Python for Beginners'\n",
        "print(course[0]) # prints the first character\n",
        "print(course[-1]) # prints the last character"
      ],
      "metadata": {
        "colab": {
          "base_uri": "https://localhost:8080/"
        },
        "id": "BOR_9qwTk1dU",
        "outputId": "6c997127-6c57-4550-cc42-46cef41a4d6a"
      },
      "execution_count": null,
      "outputs": [
        {
          "output_type": "stream",
          "name": "stdout",
          "text": [
            "P\n",
            "s\n"
          ]
        }
      ]
    },
    {
      "cell_type": "code",
      "source": [
        "course = 'Python for Beginners'\n",
        "print(course[0:3]) # prints index 0 to 3, but excludes index 3"
      ],
      "metadata": {
        "colab": {
          "base_uri": "https://localhost:8080/"
        },
        "id": "S9X1wOjQlL5X",
        "outputId": "1545e0c9-7029-498a-85e7-c40731460a3e"
      },
      "execution_count": null,
      "outputs": [
        {
          "output_type": "stream",
          "name": "stdout",
          "text": [
            "Pyt\n"
          ]
        }
      ]
    },
    {
      "cell_type": "code",
      "source": [
        "course = 'Python for Beginners'\n",
        "print(course[2:])\n",
        "print(course[:5])\n",
        "print(course[:])"
      ],
      "metadata": {
        "colab": {
          "base_uri": "https://localhost:8080/"
        },
        "id": "jhExVg-clXke",
        "outputId": "4ba77ec2-bdc5-4d50-a362-580876d710b2"
      },
      "execution_count": null,
      "outputs": [
        {
          "output_type": "stream",
          "name": "stdout",
          "text": [
            "thon for Beginners\n",
            "Pytho\n",
            "Python for Beginners\n"
          ]
        }
      ]
    },
    {
      "cell_type": "code",
      "source": [
        "course = 'Python for Beginners'\n",
        "another = course[:]\n",
        "print(another)"
      ],
      "metadata": {
        "colab": {
          "base_uri": "https://localhost:8080/"
        },
        "id": "S0d2EuZsluqY",
        "outputId": "075c134b-1c0a-45ca-c1d2-171e25a847e6"
      },
      "execution_count": null,
      "outputs": [
        {
          "output_type": "stream",
          "name": "stdout",
          "text": [
            "Python for Beginners\n"
          ]
        }
      ]
    },
    {
      "cell_type": "markdown",
      "source": [
        "*Exercise*\n",
        "Define a variable to \"name\", and set it to \"Jennifer\".\n",
        "\n",
        "If we print `(name[1:-1])`, what are we going to see on the terminal?\n",
        "\n",
        "Answer: `ennife`"
      ],
      "metadata": {
        "id": "tl-eiOKxl0OA"
      }
    },
    {
      "cell_type": "code",
      "source": [
        "name = 'Jennifer'\n",
        "print(name[1:-1])"
      ],
      "metadata": {
        "colab": {
          "base_uri": "https://localhost:8080/"
        },
        "id": "46vQsEITmPwl",
        "outputId": "c0bdf556-d97d-4c96-ca21-314cb50eafc2"
      },
      "execution_count": null,
      "outputs": [
        {
          "output_type": "stream",
          "name": "stdout",
          "text": [
            "ennife\n"
          ]
        }
      ]
    },
    {
      "cell_type": "markdown",
      "source": [
        "**Formatted Strings**"
      ],
      "metadata": {
        "id": "_Rh1fpbumfzo"
      }
    },
    {
      "cell_type": "code",
      "source": [
        "first = 'John'\n",
        "last = 'Smith'\n",
        "message = first + ' [' + last + '] is a coder'\n",
        "print(message)"
      ],
      "metadata": {
        "colab": {
          "base_uri": "https://localhost:8080/"
        },
        "id": "yrFg0Tx0dg3z",
        "outputId": "b7bab80e-35a4-4527-882b-8779460fee68"
      },
      "execution_count": null,
      "outputs": [
        {
          "output_type": "stream",
          "name": "stdout",
          "text": [
            "John [Smith] is a coder\n"
          ]
        }
      ]
    },
    {
      "cell_type": "code",
      "source": [
        "first = 'John'\n",
        "last = 'Smith'\n",
        "msg = f'{first} [{last}] is a coder'\n",
        "print(msg)"
      ],
      "metadata": {
        "colab": {
          "base_uri": "https://localhost:8080/"
        },
        "id": "5pY-V731d2sD",
        "outputId": "779272f8-f540-422d-a327-7f53c1554879"
      },
      "execution_count": null,
      "outputs": [
        {
          "output_type": "stream",
          "name": "stdout",
          "text": [
            "John [Smith] is a coder\n"
          ]
        }
      ]
    },
    {
      "cell_type": "markdown",
      "source": [
        "**String Methods**"
      ],
      "metadata": {
        "id": "J9eQFsgueQEa"
      }
    },
    {
      "cell_type": "code",
      "source": [
        "course = 'Python for Beginners'\n",
        "print(len(course))"
      ],
      "metadata": {
        "colab": {
          "base_uri": "https://localhost:8080/"
        },
        "id": "V7x3V5YQeSUQ",
        "outputId": "cdb34f43-09c3-4891-f64c-af88c4e95f6b"
      },
      "execution_count": null,
      "outputs": [
        {
          "output_type": "stream",
          "name": "stdout",
          "text": [
            "20\n"
          ]
        }
      ]
    },
    {
      "cell_type": "code",
      "source": [
        "course = 'Python for Beginners'\n",
        "print(course.upper())\n",
        "print(course.lower())\n",
        "print(course)"
      ],
      "metadata": {
        "colab": {
          "base_uri": "https://localhost:8080/"
        },
        "id": "QIPnivagenVc",
        "outputId": "671962bc-e0b2-4142-8a05-f41bcf1c87c5"
      },
      "execution_count": null,
      "outputs": [
        {
          "output_type": "stream",
          "name": "stdout",
          "text": [
            "PYTHON FOR BEGINNERS\n",
            "python for beginners\n",
            "Python for Beginners\n"
          ]
        }
      ]
    },
    {
      "cell_type": "code",
      "source": [
        "course = 'Python for Beginners'\n",
        "print(course.find('P'))\n",
        "print(course.find('o'))\n",
        "print(course.find('O')) # returns a -1, because there is no 'O'\n",
        "# Python is case sensitive\n",
        "print(course.find('Beginners'))\n",
        "print(course.replace('Beginners', 'Absolute Beginners'))\n",
        "print(course.replace('P', 'J'))"
      ],
      "metadata": {
        "colab": {
          "base_uri": "https://localhost:8080/"
        },
        "id": "pYoYlRwTfCV4",
        "outputId": "a32a7c3a-2a65-4c61-ebad-63f62a634497"
      },
      "execution_count": null,
      "outputs": [
        {
          "output_type": "stream",
          "name": "stdout",
          "text": [
            "0\n",
            "4\n",
            "-1\n",
            "11\n",
            "Python for Absolute Beginners\n",
            "Jython for Beginners\n"
          ]
        }
      ]
    },
    {
      "cell_type": "code",
      "source": [
        "course = 'Python for Beginners'\n",
        "'Python' in course # the \"in\" operator\n",
        "# this is a Boolean expression\n",
        "# returns either True/False (Boolean values)"
      ],
      "metadata": {
        "colab": {
          "base_uri": "https://localhost:8080/"
        },
        "id": "Xvpj5SNvfn12",
        "outputId": "63bedc82-3a52-4e75-9854-ad7683e304b4"
      },
      "execution_count": null,
      "outputs": [
        {
          "output_type": "execute_result",
          "data": {
            "text/plain": [
              "True"
            ]
          },
          "metadata": {},
          "execution_count": 16
        }
      ]
    },
    {
      "cell_type": "markdown",
      "source": [
        "**Arithmetic Operations**"
      ],
      "metadata": {
        "id": "BuGQZR2ugE3p"
      }
    },
    {
      "cell_type": "code",
      "source": [
        "print(10 + 3)\n",
        "print(10 - 3)\n",
        "print(10 * 3)\n",
        "print(10 ** 3)\n",
        "print(10 / 3)\n",
        "print(10 // 3)\n",
        "print(10 % 3)"
      ],
      "metadata": {
        "colab": {
          "base_uri": "https://localhost:8080/"
        },
        "id": "Wp-USoOPghWe",
        "outputId": "71cdb749-5302-4b13-decf-8959a7486257"
      },
      "execution_count": null,
      "outputs": [
        {
          "output_type": "stream",
          "name": "stdout",
          "text": [
            "13\n",
            "7\n",
            "30\n",
            "1000\n",
            "3.3333333333333335\n",
            "3\n",
            "1\n"
          ]
        }
      ]
    },
    {
      "cell_type": "code",
      "source": [
        "x = 10\n",
        "y = x\n",
        "x = x + 3\n",
        "y += 3\n",
        "print(x)\n",
        "print(y)"
      ],
      "metadata": {
        "colab": {
          "base_uri": "https://localhost:8080/"
        },
        "id": "EFozjHEHg78K",
        "outputId": "562276e0-d649-423d-a041-eaf6ca9bc8ff"
      },
      "execution_count": null,
      "outputs": [
        {
          "output_type": "stream",
          "name": "stdout",
          "text": [
            "13\n",
            "13\n"
          ]
        }
      ]
    },
    {
      "cell_type": "markdown",
      "source": [
        "**Operator Precedence**"
      ],
      "metadata": {
        "id": "ADPIpPgshJSn"
      }
    },
    {
      "cell_type": "code",
      "source": [
        "x = 10 + 3 * 2\n",
        "y = (10 + 3) * 2\n",
        "print(x)\n",
        "print(y)"
      ],
      "metadata": {
        "colab": {
          "base_uri": "https://localhost:8080/"
        },
        "id": "cPxxRP6khLn-",
        "outputId": "99388327-60b9-46a7-86a3-ae8ec17b8e76"
      },
      "execution_count": null,
      "outputs": [
        {
          "output_type": "stream",
          "name": "stdout",
          "text": [
            "16\n",
            "26\n"
          ]
        }
      ]
    },
    {
      "cell_type": "markdown",
      "source": [
        "**Math Functions**"
      ],
      "metadata": {
        "id": "AvnJVKPQhZyW"
      }
    },
    {
      "cell_type": "code",
      "source": [
        "x = 2.9\n",
        "print(round(x))\n",
        "print(abs(-2.9))"
      ],
      "metadata": {
        "colab": {
          "base_uri": "https://localhost:8080/"
        },
        "id": "h36JCvhAhdLk",
        "outputId": "6d00e33d-710c-495e-a46d-ba867be7b7a3"
      },
      "execution_count": null,
      "outputs": [
        {
          "output_type": "stream",
          "name": "stdout",
          "text": [
            "3\n",
            "2.9\n"
          ]
        }
      ]
    },
    {
      "cell_type": "code",
      "source": [
        "import math # \"math\" is a module\n",
        "print(math.ceil(2.9))\n",
        "print(math.floor(2.9))"
      ],
      "metadata": {
        "colab": {
          "base_uri": "https://localhost:8080/"
        },
        "id": "PK1aB7QIjB70",
        "outputId": "4ab2563b-05ac-4352-a02e-8878124ca61c"
      },
      "execution_count": null,
      "outputs": [
        {
          "output_type": "stream",
          "name": "stdout",
          "text": [
            "3\n",
            "2\n"
          ]
        }
      ]
    },
    {
      "cell_type": "markdown",
      "source": [
        "**If Statements**"
      ],
      "metadata": {
        "id": "-I5YQqtHjpgT"
      }
    },
    {
      "cell_type": "markdown",
      "source": [
        "\n",
        "```\n",
        "if it's hot\n",
        "  It's a hot day\n",
        "  Drink plenty of water\n",
        "otherwise if it's cold\n",
        "  It's a cold day\n",
        "  Wear warm clothes\n",
        "otherwise\n",
        "  It's a lovely day\n",
        "```\n",
        "\n"
      ],
      "metadata": {
        "id": "pbmN9iPJjxoU"
      }
    },
    {
      "cell_type": "code",
      "source": [
        "is_hot = True\n",
        "if is_hot:\n",
        "  print(\"It's a hot day\")\n",
        "  print(\"Drink plenty of water\")\n",
        "\n",
        "print(\"Enjoy your day\")"
      ],
      "metadata": {
        "colab": {
          "base_uri": "https://localhost:8080/"
        },
        "id": "MPwyy1dijr_P",
        "outputId": "fe1d5366-0021-4004-94be-5d6365b86296"
      },
      "execution_count": null,
      "outputs": [
        {
          "output_type": "stream",
          "name": "stdout",
          "text": [
            "It's a hot day\n",
            "Drink plenty of water\n",
            "Enjoy your day\n"
          ]
        }
      ]
    },
    {
      "cell_type": "code",
      "source": [
        "is_hot = False\n",
        "if is_hot:\n",
        "  print(\"It's a hot day\")\n",
        "  print(\"Drink plenty of water\")\n",
        "else:\n",
        "  print(\"It's a cold day\")\n",
        "  print(\"Wear warm clothes\")\n",
        "print(\"Enjoy your day\")"
      ],
      "metadata": {
        "colab": {
          "base_uri": "https://localhost:8080/"
        },
        "id": "Yedn8VI6kgYy",
        "outputId": "6f3560d0-9cde-4178-a2aa-08af2f50ea07"
      },
      "execution_count": null,
      "outputs": [
        {
          "output_type": "stream",
          "name": "stdout",
          "text": [
            "It's a cold day\n",
            "Wear warm clothes\n",
            "Enjoy your day\n"
          ]
        }
      ]
    },
    {
      "cell_type": "code",
      "source": [
        "is_hot = False\n",
        "is_cold = False\n",
        "if is_hot:\n",
        "  print(\"It's a hot day\")\n",
        "  print(\"Drink plenty of water\")\n",
        "elif is_cold:\n",
        "  print(\"It's a cold day\")\n",
        "  print(\"Wear warm clothes\")\n",
        "else:\n",
        "  print(\"It's a lovely day\")\n",
        "print(\"Enjoy your day\")"
      ],
      "metadata": {
        "colab": {
          "base_uri": "https://localhost:8080/"
        },
        "id": "974ahn-Kkvz3",
        "outputId": "8ef013f0-c5f5-4023-dd80-db4e354fc49a"
      },
      "execution_count": null,
      "outputs": [
        {
          "output_type": "stream",
          "name": "stdout",
          "text": [
            "It's a lovely day\n",
            "Enjoy your day\n"
          ]
        }
      ]
    },
    {
      "cell_type": "markdown",
      "source": [
        "*Exercise*\n",
        "```\n",
        "The price of a house is $1M\n",
        "If buyer has good credit,\n",
        "  they need to put down 10%\n",
        "Otherwise\n",
        "  they need to put down 20%\n",
        "Print the down payment\n",
        "```\n",
        "\n"
      ],
      "metadata": {
        "id": "JUbC7CPklSZH"
      }
    },
    {
      "cell_type": "code",
      "source": [
        "good_credit = True\n",
        "if good_credit:\n",
        "  print(1000000 * 0.1)\n",
        "else:\n",
        "  print(1000000 * 0.2)"
      ],
      "metadata": {
        "colab": {
          "base_uri": "https://localhost:8080/"
        },
        "id": "p9mVEh26luW-",
        "outputId": "34384185-90d1-4d2c-c2b7-0e3099a708ae"
      },
      "execution_count": null,
      "outputs": [
        {
          "output_type": "stream",
          "name": "stdout",
          "text": [
            "100000.0\n"
          ]
        }
      ]
    },
    {
      "cell_type": "markdown",
      "source": [
        "Alternate Solution:\n",
        "\n",
        "```\n",
        "price = 1000000\n",
        "has_good_credit = True\n",
        "if has_good_credit:\n",
        "  down_payment = 0.1 * price\n",
        "else:\n",
        "  down_payment = 0.2 * price\n",
        "\n",
        "print(f\"Down payment: ${down_payment}\")\n",
        "```\n",
        "\n"
      ],
      "metadata": {
        "id": "oePWeMlkmkjf"
      }
    },
    {
      "cell_type": "markdown",
      "source": [
        "**Logical Operators**\n",
        "\n",
        "\n",
        "\n",
        "```\n",
        "if applicant has high income AND good credit\n",
        "  Eligible for loan\n",
        "```\n",
        "\n"
      ],
      "metadata": {
        "id": "YfcoRy9Qm0eF"
      }
    },
    {
      "cell_type": "code",
      "source": [
        "has_high_income = True\n",
        "has_good_credit = True\n",
        "\n",
        "if has_high_income and has_good_credit:\n",
        "  print(\"Eligible for loan\")"
      ],
      "metadata": {
        "colab": {
          "base_uri": "https://localhost:8080/"
        },
        "id": "qnj8OHV-mVqE",
        "outputId": "230b3048-fe3f-426d-83c6-184788897a10"
      },
      "execution_count": null,
      "outputs": [
        {
          "output_type": "stream",
          "name": "stdout",
          "text": [
            "Eligible for loan\n"
          ]
        }
      ]
    },
    {
      "cell_type": "markdown",
      "source": [
        "```\n",
        "if applicant has high income OR good credit\n",
        "  Eligible for loan\n",
        "```\n"
      ],
      "metadata": {
        "id": "kCLVi5GznUQC"
      }
    },
    {
      "cell_type": "code",
      "source": [
        "has_high_income = False\n",
        "has_good_credit = True\n",
        "\n",
        "if has_high_income or has_good_credit:\n",
        "  print(\"Eligible for loan\")"
      ],
      "metadata": {
        "colab": {
          "base_uri": "https://localhost:8080/"
        },
        "id": "Vf9iiGiHnXkV",
        "outputId": "3e6cc23f-4aed-43c6-fd3b-cad5dd1e94e5"
      },
      "execution_count": null,
      "outputs": [
        {
          "output_type": "stream",
          "name": "stdout",
          "text": [
            "Eligible for loan\n"
          ]
        }
      ]
    },
    {
      "cell_type": "markdown",
      "source": [
        "* AND: both\n",
        "* OR: at least one\n",
        "* NOT: reverses Boolean value given"
      ],
      "metadata": {
        "id": "N3jbqKgwnd7s"
      }
    },
    {
      "cell_type": "markdown",
      "source": [
        "```\n",
        "if applicant has good credit AND doesn't have a criminal record\n",
        "  Eligible for loan\n",
        "```"
      ],
      "metadata": {
        "id": "nh-jtOECnuxs"
      }
    },
    {
      "cell_type": "code",
      "source": [
        "has_good_credit = True\n",
        "has_criminal_record = False\n",
        "\n",
        "if has_good_credit and not has_criminal_record:\n",
        "  print(\"Eligible for loan\")"
      ],
      "metadata": {
        "colab": {
          "base_uri": "https://localhost:8080/"
        },
        "id": "F6gKSAT7n2OI",
        "outputId": "2424bb5f-adbd-4ccc-cdfb-b21721348a99"
      },
      "execution_count": null,
      "outputs": [
        {
          "output_type": "stream",
          "name": "stdout",
          "text": [
            "Eligible for loan\n"
          ]
        }
      ]
    },
    {
      "cell_type": "markdown",
      "source": [
        "**Comparison Operators**\n",
        "\n",
        "```\n",
        "if temperature is greater than 30\n",
        "  it's a hot day\n",
        "otherwise if it's less than 10\n",
        "  it's a cold day\n",
        "otherwise\n",
        "  it's neither hot nor cold\n",
        "```\n",
        "\n"
      ],
      "metadata": {
        "id": "FIQRcj2toXJs"
      }
    },
    {
      "cell_type": "code",
      "source": [
        "temperature = 30\n",
        "\n",
        "if temperature > 30:\n",
        "  print(\"It's a hot day\")\n",
        "else:\n",
        "  print(\"It's not a hot day\")"
      ],
      "metadata": {
        "colab": {
          "base_uri": "https://localhost:8080/"
        },
        "id": "z99kt33FoZ0d",
        "outputId": "cd3e477c-b168-413d-8522-335a200e662f"
      },
      "execution_count": null,
      "outputs": [
        {
          "output_type": "stream",
          "name": "stdout",
          "text": [
            "It's not a hot day\n"
          ]
        }
      ]
    },
    {
      "cell_type": "markdown",
      "source": [
        "*Exercise*\n",
        "\n",
        "```\n",
        "if name is less than 3 characters long\n",
        "  name must be at least 3 characetrs\n",
        "otherwise if it's more than 50 mcharacters long\n",
        "  name can be a maximum of 50 characters\n",
        "otherwise\n",
        "  name looks good!\n",
        "```\n",
        "\n"
      ],
      "metadata": {
        "id": "0Z7kPwZzpIBD"
      }
    },
    {
      "cell_type": "code",
      "source": [
        "name = input(\"Please input your name: \")\n",
        "name_len = len(name)\n",
        "if name_len < 3:\n",
        "  print(\"Name must be at least 3 characters long.\")\n",
        "elif name_len > 50:\n",
        "  print(\"Name must be a maximum of 50 characters.\")\n",
        "else:\n",
        "  print(\"Name looks good!\")"
      ],
      "metadata": {
        "colab": {
          "base_uri": "https://localhost:8080/"
        },
        "id": "Fvhb8khTp9bt",
        "outputId": "3283cfe6-2a06-4dc9-8b1e-c82202d26910"
      },
      "execution_count": null,
      "outputs": [
        {
          "output_type": "stream",
          "name": "stdout",
          "text": [
            "Please input your name: Cindy\n",
            "Name looks good!\n"
          ]
        }
      ]
    },
    {
      "cell_type": "markdown",
      "source": [
        "**Project: Weight Converter Program**\n",
        "\n",
        "Input kgs/lbs, and output lbs/kgs\n",
        "\n"
      ],
      "metadata": {
        "id": "OHYbBCpEq57F"
      }
    },
    {
      "cell_type": "code",
      "source": [
        "weight = float(input(\"Weight: \"))\n",
        "unit = input(\"(L)bs or (K)g: \")\n",
        "if unit == \"L\" or unit == 'l' :\n",
        "  ans = weight / 2.2046226218\n",
        "  a_unit = \"kilograms\"\n",
        "else:\n",
        "  ans = weight * 2.2046226218\n",
        "  a_unit = \"pounds\"\n",
        "\n",
        "print(f\"You are {ans} {a_unit}\")"
      ],
      "metadata": {
        "colab": {
          "base_uri": "https://localhost:8080/"
        },
        "id": "g7Nid8wgrUvm",
        "outputId": "2cc93c6f-c51f-4ceb-f746-c3608d674638"
      },
      "execution_count": null,
      "outputs": [
        {
          "output_type": "stream",
          "name": "stdout",
          "text": [
            "Weight: 132\n",
            "(L)bs or (K)g: l\n",
            "You are 59.87419284132468 kilograms\n"
          ]
        }
      ]
    },
    {
      "cell_type": "markdown",
      "source": [
        "**While Loops**"
      ],
      "metadata": {
        "id": "ldKLDQjXszhZ"
      }
    },
    {
      "cell_type": "code",
      "source": [
        "i = 1\n",
        "while i <= 5:\n",
        "  print(i)\n",
        "  i += 1\n",
        "\n",
        "print(\"Done\")"
      ],
      "metadata": {
        "colab": {
          "base_uri": "https://localhost:8080/"
        },
        "id": "YwSlfLABs1cW",
        "outputId": "b2084fec-f6ba-40e0-e2e5-4686f24d618a"
      },
      "execution_count": null,
      "outputs": [
        {
          "output_type": "stream",
          "name": "stdout",
          "text": [
            "1\n",
            "2\n",
            "3\n",
            "4\n",
            "5\n",
            "Done\n"
          ]
        }
      ]
    },
    {
      "cell_type": "code",
      "source": [
        "i = 1\n",
        "while i <= 5:\n",
        "  print('*' * i)\n",
        "  i += 1\n",
        "\n",
        "print(\"Done\")"
      ],
      "metadata": {
        "colab": {
          "base_uri": "https://localhost:8080/"
        },
        "id": "tF5ZKp0dbqkf",
        "outputId": "9ae539ad-7de6-4c4a-d806-4de44b5f3a2c"
      },
      "execution_count": null,
      "outputs": [
        {
          "output_type": "stream",
          "name": "stdout",
          "text": [
            "*\n",
            "**\n",
            "***\n",
            "****\n",
            "*****\n",
            "Done\n"
          ]
        }
      ]
    },
    {
      "cell_type": "markdown",
      "source": [
        "**Building a Guessing Game***\n",
        "\n",
        "We have three chances to guess a number. If successful, print \"You win!\"; if else, print \"Sorry, you failed.\"\n",
        "\n",
        "*Use a while loop"
      ],
      "metadata": {
        "id": "1YhYGiEAb3DW"
      }
    },
    {
      "cell_type": "code",
      "source": [
        "num = 5\n",
        "count = 3\n",
        "while count > 0:\n",
        "  guess = int(input(\"Guess: \"))\n",
        "  if guess == num:\n",
        "    print(\"You win!\")\n",
        "    break\n",
        "  else:\n",
        "    count -= 1\n",
        "    if count == 0:\n",
        "      print(\"Sorry, you failed!\")"
      ],
      "metadata": {
        "colab": {
          "base_uri": "https://localhost:8080/"
        },
        "id": "a8aqadnqb55B",
        "outputId": "f4610426-59db-43ca-9695-617f39e1259b"
      },
      "execution_count": null,
      "outputs": [
        {
          "output_type": "stream",
          "name": "stdout",
          "text": [
            "Guess: 1\n",
            "Guess: 5\n",
            "You win!\n"
          ]
        }
      ]
    },
    {
      "cell_type": "markdown",
      "source": [
        "**Building the Car Game**\n",
        "\n",
        "```\n",
        "if we type \"help\":\n",
        "  start - to start the car\n",
        "  stop - to stop the car\n",
        "  quit - to exit\n",
        "\n",
        "other commands:\n",
        "  I don't understand that...\n",
        "\n",
        "\"start\":\n",
        "  Car started...Ready to go!\n",
        "\"stop\":\n",
        "  Car stopped.\n",
        "\"quit\":\n",
        "  the program terminates\n",
        "```\n",
        "\n"
      ],
      "metadata": {
        "id": "2x84VhzVfTZm"
      }
    },
    {
      "cell_type": "code",
      "source": [
        "command = \"\"\n",
        "started = False\n",
        "while True:\n",
        "  command = input(\"> \").lower()\n",
        "  if command == \"start\":\n",
        "    if started:\n",
        "      print(\"Car is already started\")\n",
        "    else:\n",
        "      print(\"Car started...\")\n",
        "      started = True\n",
        "  elif command == \"stop\":\n",
        "    if not started:\n",
        "      print(\"Car is already stopped!\")\n",
        "    else:\n",
        "      started = False\n",
        "      print(\"Car stopped.\")\n",
        "  elif command == \"help\":\n",
        "    print(\"\"\"\n",
        "start - to start the car\n",
        "stop - to stop the car\n",
        "quit - to quit the car\"\"\")\n",
        "  elif command == \"quit\":\n",
        "    break\n",
        "  else:\n",
        "    print(\"Sorry, I don't understand that...\")"
      ],
      "metadata": {
        "id": "UNCFKEkyhVpz"
      },
      "execution_count": null,
      "outputs": []
    },
    {
      "cell_type": "markdown",
      "source": [
        "**For Loops**"
      ],
      "metadata": {
        "id": "54b-3HPWPqnu"
      }
    },
    {
      "cell_type": "code",
      "source": [
        "for item in 'Python':\n",
        "  print(item)"
      ],
      "metadata": {
        "colab": {
          "base_uri": "https://localhost:8080/"
        },
        "id": "txRZBWWuPs3e",
        "outputId": "b84c1b47-d8d3-4709-9905-0ec81b373d16"
      },
      "execution_count": null,
      "outputs": [
        {
          "output_type": "stream",
          "name": "stdout",
          "text": [
            "P\n",
            "y\n",
            "t\n",
            "h\n",
            "o\n",
            "n\n"
          ]
        }
      ]
    },
    {
      "cell_type": "code",
      "source": [
        "for item in ['Mosh', 'John', 'Sarah']:\n",
        "  print(item)"
      ],
      "metadata": {
        "colab": {
          "base_uri": "https://localhost:8080/"
        },
        "id": "XZs1tn83QGgz",
        "outputId": "6a902989-a35c-46df-95e8-5ab259b2609d"
      },
      "execution_count": null,
      "outputs": [
        {
          "output_type": "stream",
          "name": "stdout",
          "text": [
            "Mosh\n",
            "John\n",
            "Sarah\n"
          ]
        }
      ]
    },
    {
      "cell_type": "code",
      "source": [
        "for item in [1, 2, 3, 4]:\n",
        "  print(item)"
      ],
      "metadata": {
        "colab": {
          "base_uri": "https://localhost:8080/"
        },
        "id": "3rbrwpHWQTA1",
        "outputId": "02efe946-1a9b-4cc7-cc22-8d65c41706cd"
      },
      "execution_count": null,
      "outputs": [
        {
          "output_type": "stream",
          "name": "stdout",
          "text": [
            "1\n",
            "2\n",
            "3\n",
            "4\n"
          ]
        }
      ]
    },
    {
      "cell_type": "code",
      "source": [
        "for item in range(10):\n",
        "  print(item)"
      ],
      "metadata": {
        "colab": {
          "base_uri": "https://localhost:8080/"
        },
        "id": "ITmqcRHKQbFs",
        "outputId": "ae27fa07-a483-4891-aec0-ba6383cdc9cc"
      },
      "execution_count": null,
      "outputs": [
        {
          "output_type": "stream",
          "name": "stdout",
          "text": [
            "0\n",
            "1\n",
            "2\n",
            "3\n",
            "4\n",
            "5\n",
            "6\n",
            "7\n",
            "8\n",
            "9\n"
          ]
        }
      ]
    },
    {
      "cell_type": "code",
      "source": [
        "for item in range(5, 10):\n",
        "  print(item)"
      ],
      "metadata": {
        "colab": {
          "base_uri": "https://localhost:8080/"
        },
        "id": "oTuRDN-bQnvH",
        "outputId": "38a6fcf2-377a-4fb8-b61d-da9161dd1a69"
      },
      "execution_count": null,
      "outputs": [
        {
          "output_type": "stream",
          "name": "stdout",
          "text": [
            "5\n",
            "6\n",
            "7\n",
            "8\n",
            "9\n"
          ]
        }
      ]
    },
    {
      "cell_type": "code",
      "source": [
        "for item in range(5, 10, 2):\n",
        "  print(item)"
      ],
      "metadata": {
        "colab": {
          "base_uri": "https://localhost:8080/"
        },
        "id": "8VDJ-hXzQr-V",
        "outputId": "905df3b6-f65c-45cc-fbc8-5d9921f4a431"
      },
      "execution_count": null,
      "outputs": [
        {
          "output_type": "stream",
          "name": "stdout",
          "text": [
            "5\n",
            "7\n",
            "9\n"
          ]
        }
      ]
    },
    {
      "cell_type": "markdown",
      "source": [
        "*Exercise*\n",
        "\n",
        "Write a progam to calculate the total cost of all the items in a shopping cart."
      ],
      "metadata": {
        "id": "TX38VsehQxFy"
      }
    },
    {
      "cell_type": "code",
      "source": [
        "prices = [10, 20, 30]\n",
        "total = 0\n",
        "\n",
        "for item in prices:\n",
        "  total += item\n",
        "\n",
        "print(f\"Total: {total}\")"
      ],
      "metadata": {
        "colab": {
          "base_uri": "https://localhost:8080/"
        },
        "id": "ZnKYdcDGQvl7",
        "outputId": "96573fd2-2aae-4141-996f-30f9c9d387bd"
      },
      "execution_count": null,
      "outputs": [
        {
          "output_type": "stream",
          "name": "stdout",
          "text": [
            "Total: 60\n"
          ]
        }
      ]
    },
    {
      "cell_type": "markdown",
      "source": [
        "**Nested Loops**"
      ],
      "metadata": {
        "id": "cKjf7DlpRvcP"
      }
    },
    {
      "cell_type": "code",
      "source": [
        "for x in range(4):\n",
        "  for y in range(4):\n",
        "    print(f\"({x}, {y})\")"
      ],
      "metadata": {
        "colab": {
          "base_uri": "https://localhost:8080/"
        },
        "id": "snoVTY3tRxrA",
        "outputId": "5014ed27-8f8a-480d-fe78-99e59ab68bff"
      },
      "execution_count": null,
      "outputs": [
        {
          "output_type": "stream",
          "name": "stdout",
          "text": [
            "(0, 0)\n",
            "(0, 1)\n",
            "(0, 2)\n",
            "(0, 3)\n",
            "(1, 0)\n",
            "(1, 1)\n",
            "(1, 2)\n",
            "(1, 3)\n",
            "(2, 0)\n",
            "(2, 1)\n",
            "(2, 2)\n",
            "(2, 3)\n",
            "(3, 0)\n",
            "(3, 1)\n",
            "(3, 2)\n",
            "(3, 3)\n"
          ]
        }
      ]
    },
    {
      "cell_type": "markdown",
      "source": [
        "*Challenge Exercise*\n",
        "\n",
        "Use a nested loop to draw an \"F\" shape like the one below using X's and the list below:\n",
        "\n",
        "\n",
        "```\n",
        "numbers = [5, 2, 5, 2, 2]\n",
        "```\n",
        "\n",
        "\n",
        "\n",
        "```\n",
        "XXXXX\n",
        "XX\n",
        "XXXXX\n",
        "XX\n",
        "XX\n",
        "```\n",
        "\n"
      ],
      "metadata": {
        "id": "kL-_ZASQSlNT"
      }
    },
    {
      "cell_type": "code",
      "source": [
        "numbers = [5, 2, 5, 2, 2]\n",
        "i = 0\n",
        "for x in numbers:\n",
        "  y = 0\n",
        "  while y < numbers[i]:\n",
        "    print(\"X\", end = \"\")\n",
        "    y += 1\n",
        "  print(\"\\n\")\n",
        "  i += 1"
      ],
      "metadata": {
        "colab": {
          "base_uri": "https://localhost:8080/"
        },
        "id": "22Ve-dB9SnsZ",
        "outputId": "d1d8b1cb-0f4d-481e-a352-526d5695f9f5"
      },
      "execution_count": null,
      "outputs": [
        {
          "output_type": "stream",
          "name": "stdout",
          "text": [
            "XXXXX\n",
            "\n",
            "XX\n",
            "\n",
            "XXXXX\n",
            "\n",
            "XX\n",
            "\n",
            "XX\n",
            "\n"
          ]
        }
      ]
    },
    {
      "cell_type": "code",
      "source": [
        "# Alternate Solution\n",
        "numbers = [5, 2, 5, 2, 2]\n",
        "for x_count in numbers:\n",
        "  output = \"\"\n",
        "  for count in range(x_count):\n",
        "    output += \"X\"\n",
        "  print(output)"
      ],
      "metadata": {
        "colab": {
          "base_uri": "https://localhost:8080/"
        },
        "id": "OjFHN4KTVpQE",
        "outputId": "27dad210-ab44-49e6-df83-442218bddc65"
      },
      "execution_count": null,
      "outputs": [
        {
          "output_type": "stream",
          "name": "stdout",
          "text": [
            "XXXXX\n",
            "XX\n",
            "XXXXX\n",
            "XX\n",
            "XX\n"
          ]
        }
      ]
    },
    {
      "cell_type": "code",
      "source": [
        "# Extra Exercise: Print an \"L\"\n",
        "numbers = [2, 2, 2, 2, 5]\n",
        "for x_count in numbers:\n",
        "  output = \"\"\n",
        "  for count in range(x_count):\n",
        "    output += \"X\"\n",
        "  print(output)"
      ],
      "metadata": {
        "colab": {
          "base_uri": "https://localhost:8080/"
        },
        "id": "N9Da39cJWBNF",
        "outputId": "488dc09d-7c01-4604-cabe-f0fe55b8fa96"
      },
      "execution_count": null,
      "outputs": [
        {
          "output_type": "stream",
          "name": "stdout",
          "text": [
            "XX\n",
            "XX\n",
            "XX\n",
            "XX\n",
            "XXXXX\n"
          ]
        }
      ]
    },
    {
      "cell_type": "markdown",
      "source": [
        "**Lists**"
      ],
      "metadata": {
        "id": "v3cMheipWKgO"
      }
    },
    {
      "cell_type": "code",
      "source": [
        "names = [\"John\", \"Bob\", \"Mosh\", \"Sarah\", \"Mary\"]\n",
        "print(names)\n",
        "print(names[0])\n",
        "print(names[2])\n",
        "print(names[-1])\n",
        "print(names[2:])\n",
        "print(names[:4])\n",
        "print(names[2:4])"
      ],
      "metadata": {
        "colab": {
          "base_uri": "https://localhost:8080/"
        },
        "id": "s0KncmzIWNEK",
        "outputId": "3899c802-d635-40be-f971-d730fe1c9721"
      },
      "execution_count": null,
      "outputs": [
        {
          "output_type": "stream",
          "name": "stdout",
          "text": [
            "['John', 'Bob', 'Mosh', 'Sarah', 'Mary']\n",
            "John\n",
            "Mosh\n",
            "Mary\n",
            "['Mosh', 'Sarah', 'Mary']\n",
            "['John', 'Bob', 'Mosh', 'Sarah']\n",
            "['Mosh', 'Sarah']\n"
          ]
        }
      ]
    },
    {
      "cell_type": "markdown",
      "source": [
        "*Exercise*\n",
        "\n",
        "Write a program to find the largest number in a list"
      ],
      "metadata": {
        "id": "5n7eGLyCXx4a"
      }
    },
    {
      "cell_type": "code",
      "source": [
        "list = [5, 6, 7, 8, 6, 1, 2, 74, 6]\n",
        "max = numbers[0]\n",
        "for number in list:\n",
        "  if number > max:\n",
        "    max = number\n",
        "\n",
        "print(max)"
      ],
      "metadata": {
        "colab": {
          "base_uri": "https://localhost:8080/"
        },
        "id": "Ep2ZdmNcX8Ep",
        "outputId": "8d264ebe-c95e-44cb-f2b7-9cbaef1e10e6"
      },
      "execution_count": null,
      "outputs": [
        {
          "output_type": "stream",
          "name": "stdout",
          "text": [
            "74\n"
          ]
        }
      ]
    },
    {
      "cell_type": "markdown",
      "source": [
        "**2D Lists**"
      ],
      "metadata": {
        "id": "eN7h9nbxXc--"
      }
    },
    {
      "cell_type": "code",
      "source": [
        "matrix = [\n",
        "    [1, 2, 3], \n",
        "    [4, 5, 6], \n",
        "    [7, 8, 9]\n",
        "]\n",
        "matrix[0][1] = 20\n",
        "print(matrix[0][1])"
      ],
      "metadata": {
        "colab": {
          "base_uri": "https://localhost:8080/"
        },
        "id": "TOAXzh5qXf3F",
        "outputId": "34459eeb-bea9-4d5c-fe56-b67bf68c9f94"
      },
      "execution_count": null,
      "outputs": [
        {
          "output_type": "stream",
          "name": "stdout",
          "text": [
            "20\n"
          ]
        }
      ]
    },
    {
      "cell_type": "code",
      "source": [
        "matrix = [\n",
        "    [1, 2, 3], \n",
        "    [4, 5, 6], \n",
        "    [7, 8, 9]\n",
        "]\n",
        "for row in matrix:\n",
        "  for item in row:\n",
        "    print(item, end = \"\")\n",
        "  print(\"\\n\")"
      ],
      "metadata": {
        "colab": {
          "base_uri": "https://localhost:8080/"
        },
        "id": "-ZvDS3xRZn4J",
        "outputId": "2d875d92-2671-42a1-f5d5-845447325c6e"
      },
      "execution_count": null,
      "outputs": [
        {
          "output_type": "stream",
          "name": "stdout",
          "text": [
            "123\n",
            "\n",
            "456\n",
            "\n",
            "789\n",
            "\n"
          ]
        }
      ]
    },
    {
      "cell_type": "markdown",
      "source": [
        "**List Methods**"
      ],
      "metadata": {
        "id": "GmCmhaQnZ7Z3"
      }
    },
    {
      "cell_type": "code",
      "source": [
        "numbers = [5, 2, 1, 7, 4]\n",
        "numbers.append(20)\n",
        "print(numbers)"
      ],
      "metadata": {
        "colab": {
          "base_uri": "https://localhost:8080/"
        },
        "id": "YVCcE4GZZ9lq",
        "outputId": "18e8f370-e5a3-4aa2-aa9e-5b37a0ade829"
      },
      "execution_count": null,
      "outputs": [
        {
          "output_type": "stream",
          "name": "stdout",
          "text": [
            "[5, 2, 1, 7, 4, 20]\n"
          ]
        }
      ]
    },
    {
      "cell_type": "code",
      "source": [
        "numbers = [5, 2, 1, 7, 4]\n",
        "numbers.insert(0, 10) # (index, object)\n",
        "print(numbers)"
      ],
      "metadata": {
        "colab": {
          "base_uri": "https://localhost:8080/"
        },
        "id": "iCU31SRQaJ-q",
        "outputId": "94228af9-4530-443d-c449-327c5269fb8a"
      },
      "execution_count": null,
      "outputs": [
        {
          "output_type": "stream",
          "name": "stdout",
          "text": [
            "[10, 5, 2, 1, 7, 4]\n"
          ]
        }
      ]
    },
    {
      "cell_type": "code",
      "source": [
        "numbers = [5, 2, 1, 7, 4]\n",
        "numbers.remove(5)\n",
        "print(numbers)"
      ],
      "metadata": {
        "colab": {
          "base_uri": "https://localhost:8080/"
        },
        "id": "d7vEwjH3aV_V",
        "outputId": "1e7fe575-5a05-4b89-ca4f-722489ac5072"
      },
      "execution_count": null,
      "outputs": [
        {
          "output_type": "stream",
          "name": "stdout",
          "text": [
            "[2, 1, 7, 4]\n"
          ]
        }
      ]
    },
    {
      "cell_type": "code",
      "source": [
        "numbers = [5, 2, 1, 7, 4]\n",
        "numbers.clear()\n",
        "print(numbers)"
      ],
      "metadata": {
        "colab": {
          "base_uri": "https://localhost:8080/"
        },
        "id": "gY7la6AfaZF4",
        "outputId": "75f5a2f9-3476-41fa-cf21-5cc70d5d6479"
      },
      "execution_count": null,
      "outputs": [
        {
          "output_type": "stream",
          "name": "stdout",
          "text": [
            "[]\n"
          ]
        }
      ]
    },
    {
      "cell_type": "code",
      "source": [
        "numbers = [5, 2, 1, 7, 4]\n",
        "numbers.pop() # removes the last item from the list\n",
        "print(numbers)"
      ],
      "metadata": {
        "colab": {
          "base_uri": "https://localhost:8080/"
        },
        "id": "fpxXYhbEaiGR",
        "outputId": "10f48f05-23e9-4808-bc93-edd4cb837d4f"
      },
      "execution_count": null,
      "outputs": [
        {
          "output_type": "stream",
          "name": "stdout",
          "text": [
            "[5, 2, 1, 7]\n"
          ]
        }
      ]
    },
    {
      "cell_type": "code",
      "source": [
        "numbers = [5, 2, 1, 7, 4]\n",
        "print(numbers.index(2))"
      ],
      "metadata": {
        "colab": {
          "base_uri": "https://localhost:8080/"
        },
        "id": "oaiv3obYaox7",
        "outputId": "0d1147ff-a196-4771-ea1a-738e8bf68fa8"
      },
      "execution_count": null,
      "outputs": [
        {
          "output_type": "stream",
          "name": "stdout",
          "text": [
            "1\n"
          ]
        }
      ]
    },
    {
      "cell_type": "code",
      "source": [
        "numbers = [5, 2, 1, 7, 4]\n",
        "print(50 in numbers)\n",
        "# outputs a Boolean value"
      ],
      "metadata": {
        "colab": {
          "base_uri": "https://localhost:8080/"
        },
        "id": "Rps1J5yYawlW",
        "outputId": "c499d504-28cf-45ab-8705-d415829477f6"
      },
      "execution_count": null,
      "outputs": [
        {
          "output_type": "stream",
          "name": "stdout",
          "text": [
            "False\n"
          ]
        }
      ]
    },
    {
      "cell_type": "code",
      "source": [
        "numbers = [5, 2, 1, 5, 7, 4]\n",
        "print(numbers.count(5))"
      ],
      "metadata": {
        "colab": {
          "base_uri": "https://localhost:8080/"
        },
        "id": "D8T5sIBTa3YE",
        "outputId": "e861f5b1-e3d6-4a8f-df2c-cd8d88be4d2a"
      },
      "execution_count": null,
      "outputs": [
        {
          "output_type": "stream",
          "name": "stdout",
          "text": [
            "2\n"
          ]
        }
      ]
    },
    {
      "cell_type": "code",
      "source": [
        "numbers = [5, 2, 1, 5, 7, 4]\n",
        "numbers.sort() # sorts the list in ascending order\n",
        "print(numbers)"
      ],
      "metadata": {
        "colab": {
          "base_uri": "https://localhost:8080/"
        },
        "id": "8kWD6APXa9Oh",
        "outputId": "32bebcc6-454b-4eb6-c3e9-09425c4ca7dd"
      },
      "execution_count": null,
      "outputs": [
        {
          "output_type": "stream",
          "name": "stdout",
          "text": [
            "[1, 2, 4, 5, 5, 7]\n"
          ]
        }
      ]
    },
    {
      "cell_type": "code",
      "source": [
        "numbers = [5, 2, 1, 5, 7, 4]\n",
        "numbers.sort() # sorts the list in ascending order\n",
        "numbers.reverse()\n",
        "print(numbers)"
      ],
      "metadata": {
        "colab": {
          "base_uri": "https://localhost:8080/"
        },
        "id": "xxlufFLpbPX8",
        "outputId": "8345db89-8ac6-4bac-8836-a123ef973440"
      },
      "execution_count": null,
      "outputs": [
        {
          "output_type": "stream",
          "name": "stdout",
          "text": [
            "[7, 5, 5, 4, 2, 1]\n"
          ]
        }
      ]
    },
    {
      "cell_type": "code",
      "source": [
        "numbers = [5, 2, 1, 5, 7, 4]\n",
        "numbers2 = numbers.copy()\n",
        "numbers.append(10)\n",
        "print(numbers)\n",
        "print(numbers2)"
      ],
      "metadata": {
        "colab": {
          "base_uri": "https://localhost:8080/"
        },
        "id": "iyHrKwEcbTkm",
        "outputId": "7a2cc102-25e7-45d4-d280-3393964e2fa8"
      },
      "execution_count": null,
      "outputs": [
        {
          "output_type": "stream",
          "name": "stdout",
          "text": [
            "[5, 2, 1, 5, 7, 4, 10]\n",
            "[5, 2, 1, 5, 7, 4]\n"
          ]
        }
      ]
    },
    {
      "cell_type": "markdown",
      "source": [
        "*Exercise*\n",
        "\n",
        "Write a program to remove the duplicates in a list."
      ],
      "metadata": {
        "id": "1KkMNHuMbhBd"
      }
    },
    {
      "cell_type": "code",
      "source": [
        "list = [5, 2, 4, 5, 6, 8, 9, 2]\n",
        "n_list = []\n",
        "\n",
        "for item in list:\n",
        "  if item not in n_list:\n",
        "    n_list.append(item)\n",
        "    \n",
        "print(n_list)"
      ],
      "metadata": {
        "colab": {
          "base_uri": "https://localhost:8080/"
        },
        "id": "qVrh3zF-bqYy",
        "outputId": "2bdfdb9f-f9cc-497e-8308-5911a2b306a5"
      },
      "execution_count": null,
      "outputs": [
        {
          "output_type": "stream",
          "name": "stdout",
          "text": [
            "[5, 2, 4, 6, 8, 9]\n"
          ]
        }
      ]
    },
    {
      "cell_type": "markdown",
      "source": [
        "**Tuples**\n",
        "\n",
        "= immutable lists"
      ],
      "metadata": {
        "id": "ieTW_YrIgFyl"
      }
    },
    {
      "cell_type": "code",
      "source": [
        "numbers = (1, 2, 3)\n",
        "numbers.count(1)"
      ],
      "metadata": {
        "colab": {
          "base_uri": "https://localhost:8080/"
        },
        "id": "3d1bmqeuJKhn",
        "outputId": "22aaa411-11cc-43b7-8a53-135239f65eb2"
      },
      "execution_count": null,
      "outputs": [
        {
          "output_type": "execute_result",
          "data": {
            "text/plain": [
              "1"
            ]
          },
          "metadata": {},
          "execution_count": 2
        }
      ]
    },
    {
      "cell_type": "code",
      "source": [
        "numbers = (1, 2, 3)\n",
        "numbers.index(1)"
      ],
      "metadata": {
        "colab": {
          "base_uri": "https://localhost:8080/"
        },
        "id": "n_GbLjhNJcqd",
        "outputId": "be76cb59-2d8a-4f68-ff10-9616b527c18b"
      },
      "execution_count": null,
      "outputs": [
        {
          "output_type": "execute_result",
          "data": {
            "text/plain": [
              "0"
            ]
          },
          "metadata": {},
          "execution_count": 3
        }
      ]
    },
    {
      "cell_type": "code",
      "source": [
        "numbers = (1, 2, 3)\n",
        "print(numbers[0])"
      ],
      "metadata": {
        "colab": {
          "base_uri": "https://localhost:8080/"
        },
        "id": "u7UNaOAdJgxQ",
        "outputId": "581c8324-1318-4b49-c4de-e7da96d739d3"
      },
      "execution_count": null,
      "outputs": [
        {
          "output_type": "stream",
          "name": "stdout",
          "text": [
            "1\n"
          ]
        }
      ]
    },
    {
      "cell_type": "markdown",
      "source": [
        "**Unpacking**"
      ],
      "metadata": {
        "id": "BuQ68E0ZJtfV"
      }
    },
    {
      "cell_type": "code",
      "source": [
        "coordinates = (1, 2, 3)\n",
        "x = coordinates[0]\n",
        "y = coordinates[1]\n",
        "z = coordinates[2]\n",
        "\n",
        "print(x * y * z)"
      ],
      "metadata": {
        "colab": {
          "base_uri": "https://localhost:8080/"
        },
        "id": "k12H1gT8JvCB",
        "outputId": "15b8359d-63a5-4643-b5a3-c652e78bc455"
      },
      "execution_count": null,
      "outputs": [
        {
          "output_type": "stream",
          "name": "stdout",
          "text": [
            "6\n"
          ]
        }
      ]
    },
    {
      "cell_type": "code",
      "source": [
        "coordinates = (1, 2, 3)\n",
        "x, y, z = coordinates # this is called \"unpacking\"\n",
        "print(x)\n",
        "print(y)\n",
        "print(z)"
      ],
      "metadata": {
        "colab": {
          "base_uri": "https://localhost:8080/"
        },
        "id": "nJH-RVqEKK1Q",
        "outputId": "cb4985e8-8b6f-4278-8908-21797f5e2de3"
      },
      "execution_count": null,
      "outputs": [
        {
          "output_type": "stream",
          "name": "stdout",
          "text": [
            "6\n"
          ]
        }
      ]
    },
    {
      "cell_type": "markdown",
      "source": [
        "**Dictionaries**\n",
        "\n",
        "```\n",
        "Name: John Smith\n",
        "Email: john@gmail.com\n",
        "Phone: 1234\n",
        "```\n",
        "\n"
      ],
      "metadata": {
        "id": "Sdhj0jWRKfKz"
      }
    },
    {
      "cell_type": "code",
      "source": [
        "customer = {\n",
        "    \"name\": \"John Smith\", \n",
        "    \"age\": 30, # the keys should be unique (the thing in front of the colon)\n",
        "    \"is_verified\": True\n",
        "}\n",
        "\n",
        "print(customer)\n",
        "print(customer[\"name\"])\n",
        "print(customer.get(\"age\"))\n",
        "print(customer.get(\"birthdate\"))\n",
        "print(customer.get(\"birthdate\", \"Jan 1 1980\"))\n",
        "\n",
        "customer[\"name\"] = \"Jack Smith\"\n",
        "print(customer[\"name\"])"
      ],
      "metadata": {
        "colab": {
          "base_uri": "https://localhost:8080/"
        },
        "id": "Oac-dfjxKhHf",
        "outputId": "aea426ea-17b4-4243-ecd2-f606bcb23b49"
      },
      "execution_count": null,
      "outputs": [
        {
          "output_type": "stream",
          "name": "stdout",
          "text": [
            "{'name': 'John Smith', 'age': 30, 'is_verified': True}\n",
            "John Smith\n",
            "30\n",
            "None\n",
            "Jan 1 1980\n",
            "Jack Smith\n"
          ]
        }
      ]
    },
    {
      "cell_type": "markdown",
      "source": [
        "*Exercise*\n",
        "\n",
        "We have a program that asks for a phone number, and we translate the digits into words, ex:\n",
        "\n",
        "\n",
        "```\n",
        "Phone: 1234\n",
        "One Two Three Four\n",
        "```\n"
      ],
      "metadata": {
        "id": "MZAdRJr-L6Qs"
      }
    },
    {
      "cell_type": "code",
      "source": [
        "translate = {\n",
        "    \"0\": \"Zero\", \n",
        "    \"1\": \"One\", \n",
        "    \"2\": \"Two\", \n",
        "    \"3\": \"Three\", \n",
        "    \"4\": \"Four\", \n",
        "    \"5\": \"Five\", \n",
        "    \"6\": \"Six\", \n",
        "    \"7\": \"Seven\", \n",
        "    \"8\": \"Eight\", \n",
        "    \"9\": \"Nine\"\n",
        "}\n",
        "\n",
        "words = \"\"\n",
        "numbers = input(\"Phone: \")\n",
        "\n",
        "for num in numbers:\n",
        "  words += (translate.get(num, \"*\") + \" \")\n",
        "\n",
        "print(words)"
      ],
      "metadata": {
        "colab": {
          "base_uri": "https://localhost:8080/"
        },
        "id": "EGSzMF07MNf5",
        "outputId": "ba17cc96-b647-4c6e-869d-086f81abeefb"
      },
      "execution_count": null,
      "outputs": [
        {
          "output_type": "stream",
          "name": "stdout",
          "text": [
            "Phone: 25341205\n",
            "Two Five Three Four One Two Zero Five \n"
          ]
        }
      ]
    },
    {
      "cell_type": "markdown",
      "source": [
        "*Exercise: Emoji Converter*"
      ],
      "metadata": {
        "id": "NYfO0AVjOrp2"
      }
    },
    {
      "cell_type": "code",
      "source": [
        "message = (input(\">\"))\n",
        "words = message.split(\" \") # \".split\" splits input with the thing in the parentheses\n",
        "print(words)"
      ],
      "metadata": {
        "colab": {
          "base_uri": "https://localhost:8080/"
        },
        "id": "zgsm8PqQOxA7",
        "outputId": "7f08c6ed-a292-432f-d40f-324dc6aedc15"
      },
      "execution_count": null,
      "outputs": [
        {
          "output_type": "stream",
          "name": "stdout",
          "text": [
            ">Good morning sunshine\n",
            "['Good', 'morning', 'sunshine']\n"
          ]
        }
      ]
    },
    {
      "cell_type": "code",
      "source": [
        "message = input(\">\")\n",
        "words = message.split(\" \")\n",
        "emojis = {\n",
        "    \":)\": \"😀\", \n",
        "    \":(\": \"☹️\"\n",
        "}\n",
        "\n",
        "output = \"\"\n",
        "\n",
        "for word in words:\n",
        "  output += emojis.get(word, word) + \" \"\n",
        "\n",
        "print(output)"
      ],
      "metadata": {
        "colab": {
          "base_uri": "https://localhost:8080/"
        },
        "id": "jJM1t63PPV4-",
        "outputId": "354608b2-7b7f-474d-a0c6-b2180f742b9b"
      },
      "execution_count": null,
      "outputs": [
        {
          "output_type": "stream",
          "name": "stdout",
          "text": [
            ">I am sad :(\n",
            "I am sad ☹️ \n"
          ]
        }
      ]
    },
    {
      "cell_type": "markdown",
      "source": [
        "**Functions**"
      ],
      "metadata": {
        "id": "_MvWSwOPQXOa"
      }
    },
    {
      "cell_type": "code",
      "source": [
        "def greet_user():\n",
        "  print(\"Hi there!\")\n",
        "  print(\"Welcome aboard\")\n",
        "\n",
        "\n",
        "print(\"Start\") # add two line breaks after a function\n",
        "greet_user()\n",
        "print(\"Finish\")"
      ],
      "metadata": {
        "colab": {
          "base_uri": "https://localhost:8080/"
        },
        "id": "xAkNJrjsQa2H",
        "outputId": "eac6788a-e086-45f4-8b60-c48926970c9d"
      },
      "execution_count": null,
      "outputs": [
        {
          "output_type": "stream",
          "name": "stdout",
          "text": [
            "Start\n",
            "Hi there!\n",
            "Welcome aboard\n",
            "Finish\n"
          ]
        }
      ]
    },
    {
      "cell_type": "markdown",
      "source": [
        "*Parameters*\n",
        "\n",
        "Parameters are placeholders for receiving information"
      ],
      "metadata": {
        "id": "Y_F0Tj5rRl-H"
      }
    },
    {
      "cell_type": "code",
      "source": [
        "def greet_user(name):\n",
        "  print(f\"Hi {name}!\")\n",
        "  print(\"Welcome aboard\")\n",
        "\n",
        "\n",
        "print(\"Start\")\n",
        "greet_user(\"John\")\n",
        "print(\"Finish\")"
      ],
      "metadata": {
        "colab": {
          "base_uri": "https://localhost:8080/"
        },
        "id": "ypozRq6zR3Rf",
        "outputId": "3012bcd0-509f-4b80-ff71-1a0a1b1fb53f"
      },
      "execution_count": null,
      "outputs": [
        {
          "output_type": "stream",
          "name": "stdout",
          "text": [
            "Start\n",
            "Hi John!\n",
            "Welcome aboard\n",
            "Finish\n"
          ]
        }
      ]
    },
    {
      "cell_type": "code",
      "source": [
        "def greet_user(name):\n",
        "  print(f\"Hi {name}!\")\n",
        "  print(\"Welcome aboard\")\n",
        "\n",
        "\n",
        "print(\"Start\") # add two line breaks after a function\n",
        "greet_user(\"John\")\n",
        "greet_user(\"Mary\")\n",
        "print(\"Finish\")"
      ],
      "metadata": {
        "colab": {
          "base_uri": "https://localhost:8080/"
        },
        "id": "Fkr9AeLXSINo",
        "outputId": "23072203-2b80-4729-a3df-579559c46345"
      },
      "execution_count": null,
      "outputs": [
        {
          "output_type": "stream",
          "name": "stdout",
          "text": [
            "Start\n",
            "Hi John!\n",
            "Welcome aboard\n",
            "Hi Mary!\n",
            "Welcome aboard\n",
            "Finish\n"
          ]
        }
      ]
    },
    {
      "cell_type": "code",
      "source": [
        "def greet_user(first_name, last_name):\n",
        "  print(f\"Hi {first_name} {last_name}!\")\n",
        "  print(\"Welcome aboard\")\n",
        "\n",
        "\n",
        "print(\"Start\")\n",
        "greet_user(\"John\", \"Smith\")\n",
        "print(\"Finish\")"
      ],
      "metadata": {
        "colab": {
          "base_uri": "https://localhost:8080/"
        },
        "id": "ooyzw2EsSWnZ",
        "outputId": "6319b5ea-328f-411f-a195-c6eff20e3d2a"
      },
      "execution_count": null,
      "outputs": [
        {
          "output_type": "stream",
          "name": "stdout",
          "text": [
            "Start\n",
            "Hi John Smith!\n",
            "Welcome aboard\n",
            "Finish\n"
          ]
        }
      ]
    },
    {
      "cell_type": "markdown",
      "source": [
        "**Keyword Arguments**"
      ],
      "metadata": {
        "id": "g2nGro4SSxMS"
      }
    },
    {
      "cell_type": "code",
      "source": [
        "def greet_user(first_name, last_name):\n",
        "  print(f\"Hi {first_name} {last_name}!\")\n",
        "  print(\"Welcome aboard\")\n",
        "\n",
        "\n",
        "print(\"Start\")\n",
        "greet_user(\"Smith\", \"John\")\n",
        "print(\"Finish\")"
      ],
      "metadata": {
        "colab": {
          "base_uri": "https://localhost:8080/"
        },
        "id": "zkpbNUGZTL7F",
        "outputId": "f603f780-aa14-4d4f-ac33-70698a8281dc"
      },
      "execution_count": null,
      "outputs": [
        {
          "output_type": "stream",
          "name": "stdout",
          "text": [
            "Start\n",
            "Hi Smith John!\n",
            "Welcome aboard\n",
            "Finish\n"
          ]
        }
      ]
    },
    {
      "cell_type": "code",
      "source": [
        "def greet_user(first_name, last_name):\n",
        "  print(f\"Hi {first_name} {last_name}!\")\n",
        "  print(\"Welcome aboard\")\n",
        "\n",
        "\n",
        "print(\"Start\")\n",
        "greet_user(last_name = \"Smith\", first_name = \"John\")\n",
        "# this is the usage of \"keyword arguments\"\n",
        "print(\"Finish\")"
      ],
      "metadata": {
        "colab": {
          "base_uri": "https://localhost:8080/"
        },
        "id": "btvWKurJS0Sz",
        "outputId": "46e99a47-fcd9-4d88-e198-d7e839275697"
      },
      "execution_count": null,
      "outputs": [
        {
          "output_type": "stream",
          "name": "stdout",
          "text": [
            "Start\n",
            "Hi John Smith!\n",
            "Welcome aboard\n",
            "Finish\n"
          ]
        }
      ]
    },
    {
      "cell_type": "code",
      "source": [
        "def greet_user(first_name, last_name):\n",
        "  print(f\"Hi {first_name} {last_name}!\")\n",
        "  print(\"Welcome aboard\")\n",
        "\n",
        "\n",
        "print(\"Start\")\n",
        "greet_user(\"John\", last_name = \"Smith\")\n",
        "# we cannot add a keyword argument before a positional argument\n",
        "# this means that we cannot use:\n",
        "# greet_user(first_name = \"John\", \"Smith\")\n",
        "print(\"Finish\")"
      ],
      "metadata": {
        "colab": {
          "base_uri": "https://localhost:8080/"
        },
        "id": "MITLkL9hTupb",
        "outputId": "8c07fded-d933-4b54-8675-02eea1416ba1"
      },
      "execution_count": null,
      "outputs": [
        {
          "output_type": "stream",
          "name": "stdout",
          "text": [
            "Start\n",
            "Hi John Smith!\n",
            "Welcome aboard\n",
            "Finish\n"
          ]
        }
      ]
    },
    {
      "cell_type": "markdown",
      "source": [
        "**Return Statement**"
      ],
      "metadata": {
        "id": "LWNniL8DUNHG"
      }
    },
    {
      "cell_type": "code",
      "source": [
        "def square(number):\n",
        "  return number * number\n",
        "\n",
        "\n",
        "result = square(3)\n",
        "print(result)\n",
        "print(square(3))"
      ],
      "metadata": {
        "colab": {
          "base_uri": "https://localhost:8080/"
        },
        "id": "K1I1HIvHUPnR",
        "outputId": "2321d219-c3da-4b29-afa4-d710fb232ed9"
      },
      "execution_count": null,
      "outputs": [
        {
          "output_type": "stream",
          "name": "stdout",
          "text": [
            "9\n",
            "9\n"
          ]
        }
      ]
    },
    {
      "cell_type": "markdown",
      "source": [
        "*Exercise: Create a Reusable Function*\n",
        "\n",
        "(using the emoji converter)"
      ],
      "metadata": {
        "id": "7mdkJzh1VGs1"
      }
    },
    {
      "cell_type": "code",
      "source": [
        "def emoji_converter(message):\n",
        "  words = message.split(\" \")\n",
        "  emojis = {\n",
        "      \":)\": \"😀\", \n",
        "      \":(\": \"☹️\"\n",
        "  }\n",
        "\n",
        "  output = \"\"\n",
        "\n",
        "  for word in words:\n",
        "    output += emojis.get(word, word) + \" \"\n",
        "\n",
        "  return output\n",
        "\n",
        "\n",
        "message = input(\">\")\n",
        "print(emoji_converter(message))"
      ],
      "metadata": {
        "colab": {
          "base_uri": "https://localhost:8080/"
        },
        "id": "xEWHNnidVQe_",
        "outputId": "37ee0039-79b6-47f5-b81c-b12ed8873a4a"
      },
      "execution_count": null,
      "outputs": [
        {
          "output_type": "stream",
          "name": "stdout",
          "text": [
            ">I'm happy :)\n",
            "I'm happy 😀 \n"
          ]
        }
      ]
    },
    {
      "cell_type": "markdown",
      "source": [
        "**Exceptions**"
      ],
      "metadata": {
        "id": "xBWMr9LrWITh"
      }
    },
    {
      "cell_type": "markdown",
      "source": [
        "```\n",
        "exit code 0: program ran successfully\n",
        "exit code 1: program crashed\n",
        "```\n",
        "\n"
      ],
      "metadata": {
        "id": "mFVbzfs0V8xJ"
      }
    },
    {
      "cell_type": "code",
      "source": [
        "try:\n",
        "  age = int(input(\"Age: \"))\n",
        "  print(age)\n",
        "except ValueError:\n",
        "  print(\"Invalid value\")\n",
        "  # using an error message like this is called an \"exception\""
      ],
      "metadata": {
        "colab": {
          "base_uri": "https://localhost:8080/"
        },
        "id": "b9feJ4-iWRoG",
        "outputId": "0db53888-9ce0-41ce-c948-10c367caaa17"
      },
      "execution_count": 1,
      "outputs": [
        {
          "output_type": "stream",
          "name": "stdout",
          "text": [
            "Age: asd\n",
            "Invalid value\n"
          ]
        }
      ]
    },
    {
      "cell_type": "code",
      "source": [
        "try:\n",
        "  age = int(input(\"Age: \"))\n",
        "  income = 20000\n",
        "  risk = income / age\n",
        "  print(age)\n",
        "except ValueError:\n",
        "  print(\"Invalid value\")\n",
        "except ZeroDivisionError:\n",
        "  print(\"Age cannot be 0.\")\n",
        "  # using an error message like this is called an \"exception\""
      ],
      "metadata": {
        "colab": {
          "base_uri": "https://localhost:8080/"
        },
        "id": "Bqqew05rW4U2",
        "outputId": "c5a6a685-f444-49e5-c0ed-caf9b676cf17"
      },
      "execution_count": 3,
      "outputs": [
        {
          "output_type": "stream",
          "name": "stdout",
          "text": [
            "Age: 0\n",
            "Age cannot be 0.\n"
          ]
        }
      ]
    },
    {
      "cell_type": "markdown",
      "source": [
        "**Comments**\n",
        "\n",
        "We use \"#\" for comments in Python"
      ],
      "metadata": {
        "id": "4wGSzhoIXRbj"
      }
    },
    {
      "cell_type": "markdown",
      "source": [
        "**Classes**"
      ],
      "metadata": {
        "id": "MiHzhka9X0K5"
      }
    },
    {
      "cell_type": "code",
      "source": [
        "# Pascal naming convention (uses uppercase letters to separate words)\n",
        "class Point:\n",
        "\n",
        "  def move(self):\n",
        "    print(\"move\")\n",
        "\n",
        "  def draw(self):\n",
        "    print(\"draw\")\n",
        "\n",
        "\n",
        "point1 = Point()\n",
        "point1.draw()"
      ],
      "metadata": {
        "colab": {
          "base_uri": "https://localhost:8080/"
        },
        "id": "7toDZJ0bX2CZ",
        "outputId": "3264d5d5-5b54-483f-e622-042fa138ed07"
      },
      "execution_count": 4,
      "outputs": [
        {
          "output_type": "stream",
          "name": "stdout",
          "text": [
            "draw\n"
          ]
        }
      ]
    },
    {
      "cell_type": "code",
      "source": [
        "class Point:\n",
        "\n",
        "  def move(self):\n",
        "    print(\"move\")\n",
        "\n",
        "  def draw(self):\n",
        "    print(\"draw\")\n",
        "\n",
        "\n",
        "point1 = Point()\n",
        "point1.x = 10\n",
        "point1.y = 20\n",
        "print(point1.x)\n",
        "point1.draw()\n",
        "\n",
        "point2 = Point()\n",
        "point2.x = 1\n",
        "print(point2.x)"
      ],
      "metadata": {
        "colab": {
          "base_uri": "https://localhost:8080/"
        },
        "id": "h4NBm2TTZA7J",
        "outputId": "abfe919b-bd6d-4514-844b-cb0c481367f8"
      },
      "execution_count": 6,
      "outputs": [
        {
          "output_type": "stream",
          "name": "stdout",
          "text": [
            "10\n",
            "draw\n",
            "1\n"
          ]
        }
      ]
    },
    {
      "cell_type": "markdown",
      "source": [
        "**Constructors**"
      ],
      "metadata": {
        "id": "w_JeGPieZoR4"
      }
    },
    {
      "cell_type": "code",
      "source": [
        "class Point:\n",
        "\n",
        "  # \"init\" is short for \"initialized\"\n",
        "  # we use \"self\" to reference current object\n",
        "  def __init__(self, x, y):\n",
        "    # this method is called a \"constructor\"\n",
        "    self.x = x\n",
        "    self.y = y\n",
        "\n",
        "  def move(self):\n",
        "    print(\"move\")\n",
        "\n",
        "  def draw(self):\n",
        "    print(\"draw\")\n",
        "\n",
        "# a constructer is a function that gets called\n",
        "# at the time of creating an object\n",
        "point = Point(10, 20)\n",
        "print(point.x)"
      ],
      "metadata": {
        "colab": {
          "base_uri": "https://localhost:8080/"
        },
        "id": "hj-IbXNgZqWN",
        "outputId": "c7843e89-ca2f-4c11-ba8d-d41265654a35"
      },
      "execution_count": 7,
      "outputs": [
        {
          "output_type": "stream",
          "name": "stdout",
          "text": [
            "10\n"
          ]
        }
      ]
    },
    {
      "cell_type": "markdown",
      "source": [
        "*Exercise*\n",
        "\n",
        "Define a new type \"Person\", with the attributes \"name\" and \"talk()\"."
      ],
      "metadata": {
        "id": "uQpu_2Nwaoe9"
      }
    },
    {
      "cell_type": "code",
      "source": [
        "class Person:\n",
        "  \n",
        "  def __init__(self, name):\n",
        "    self.name = name\n",
        "\n",
        "  def talk(self):\n",
        "    print(\"talk\")\n",
        "\n",
        "\n",
        "john = Person(\"John Smith\")\n",
        "print(john.name)\n",
        "john.talk()\n"
      ],
      "metadata": {
        "colab": {
          "base_uri": "https://localhost:8080/"
        },
        "id": "y77-GSb9a0jd",
        "outputId": "53e0f3c5-7792-4982-8874-f29f6419f20f"
      },
      "execution_count": 9,
      "outputs": [
        {
          "output_type": "stream",
          "name": "stdout",
          "text": [
            "John Smith\n",
            "talk\n"
          ]
        }
      ]
    },
    {
      "cell_type": "code",
      "source": [
        "class Person:\n",
        "  \n",
        "  def __init__(self, name):\n",
        "    self.name = name\n",
        "\n",
        "  def talk(self):\n",
        "    print(f\"Hi, I am {self.name}.\")\n",
        "\n",
        "\n",
        "john = Person(\"John Smith\")\n",
        "john.talk()\n",
        "\n",
        "bob = Person(\"Bob Smith\")\n",
        "bob.talk()"
      ],
      "metadata": {
        "colab": {
          "base_uri": "https://localhost:8080/"
        },
        "id": "t7R5Ly18bveb",
        "outputId": "af1ec0e5-6ea0-444c-dbc2-4f8a21fcadc4"
      },
      "execution_count": 13,
      "outputs": [
        {
          "output_type": "stream",
          "name": "stdout",
          "text": [
            "Hi, I am John Smith.\n",
            "Hi, I am Bob Smith.\n"
          ]
        }
      ]
    },
    {
      "cell_type": "markdown",
      "source": [
        "**Inheritance**"
      ],
      "metadata": {
        "id": "zbKSUR3OcC6Y"
      }
    },
    {
      "cell_type": "code",
      "source": [
        "class Mammal:\n",
        "  def walk(self):\n",
        "    print(\"walk\")\n",
        "\n",
        "\n",
        "class Dog(Mammal):\n",
        "  def bark(self):\n",
        "    print(\"bark\")\n",
        "\n",
        "\n",
        "class Cat(Mammal):\n",
        "  def be_annoying(self):\n",
        "    print(\"annoying\")\n",
        "\n",
        "\n",
        "dog1 = Dog()\n",
        "dog1.walk()\n",
        "dog1.bark()\n",
        "\n",
        "cat1 = Cat()\n",
        "cat1.walk()\n",
        "cat1.be_annoying()"
      ],
      "metadata": {
        "colab": {
          "base_uri": "https://localhost:8080/"
        },
        "id": "ofBDsR_lcFM9",
        "outputId": "c681ed43-f58c-4dfb-9484-3ba8e1bd3b09"
      },
      "execution_count": 18,
      "outputs": [
        {
          "output_type": "stream",
          "name": "stdout",
          "text": [
            "walk\n",
            "bark\n",
            "walk\n",
            "annoying\n"
          ]
        }
      ]
    },
    {
      "cell_type": "markdown",
      "source": [
        "**Modules**\n",
        "\n",
        "https://youtu.be/_uQrJ0TkZlc?t=11973\n",
        "\n",
        "*Exercise*\n",
        "\n",
        "https://youtu.be/_uQrJ0TkZlc?t=12244"
      ],
      "metadata": {
        "id": "oBMelLgodcW0"
      }
    },
    {
      "cell_type": "markdown",
      "source": [
        "**Packages**\n",
        "\n",
        "https://youtu.be/_uQrJ0TkZlc?t=12612"
      ],
      "metadata": {
        "id": "Jpj5v-g3egpt"
      }
    },
    {
      "cell_type": "markdown",
      "source": [
        "**Generating Random Values**"
      ],
      "metadata": {
        "id": "DouQ7-yRfCsR"
      }
    },
    {
      "cell_type": "code",
      "source": [
        "import random\n",
        "\n",
        "for i in range(3):\n",
        "  print(random.random())"
      ],
      "metadata": {
        "colab": {
          "base_uri": "https://localhost:8080/"
        },
        "id": "j7QWyqLXfKwM",
        "outputId": "d3d51b4c-7fc6-4a5f-e2ba-ab9f00b11424"
      },
      "execution_count": 22,
      "outputs": [
        {
          "output_type": "stream",
          "name": "stdout",
          "text": [
            "0.6724931174796671\n",
            "0.7709351549642328\n",
            "0.3469039909602647\n"
          ]
        }
      ]
    },
    {
      "cell_type": "code",
      "source": [
        "import random\n",
        "\n",
        "for i in range(3):\n",
        "  print(random.randint(10, 20))"
      ],
      "metadata": {
        "colab": {
          "base_uri": "https://localhost:8080/"
        },
        "id": "mk80aLf5fhdM",
        "outputId": "84377c3c-d2f1-44a6-8ff1-db8f5af7563a"
      },
      "execution_count": 23,
      "outputs": [
        {
          "output_type": "stream",
          "name": "stdout",
          "text": [
            "16\n",
            "16\n",
            "17\n"
          ]
        }
      ]
    },
    {
      "cell_type": "code",
      "source": [
        "import random\n",
        "\n",
        "members = [\"John\", \"Mary\", \"Bob\", \"Mosh\"]\n",
        "leader = random.choice(members)\n",
        "\n",
        "print(leader)"
      ],
      "metadata": {
        "colab": {
          "base_uri": "https://localhost:8080/"
        },
        "id": "IVZ4HKbKfmgV",
        "outputId": "71a6c430-c871-446a-9385-f3c210cb66de"
      },
      "execution_count": 24,
      "outputs": [
        {
          "output_type": "stream",
          "name": "stdout",
          "text": [
            "Mary\n"
          ]
        }
      ]
    },
    {
      "cell_type": "markdown",
      "source": [
        "*Exercise*\n",
        "\n",
        "Write a program to roll two dices at once\n",
        "\n",
        "We're going to use a class called \"Dice\", and we're going to have a method called \"roll()\". We should get the tuple of two random values."
      ],
      "metadata": {
        "id": "LrdUFr2rf3VL"
      }
    },
    {
      "cell_type": "code",
      "source": [
        "import random\n",
        "\n",
        "\n",
        "class Dice:\n",
        "  \n",
        "  def roll(self):\n",
        "    dice1 = random.randint(1, 6)\n",
        "    dice2 = random.randint(1, 6)\n",
        "    return (dice1, dice2)\n",
        "\n",
        "\n",
        "dice = Dice()\n",
        "print(dice.roll())"
      ],
      "metadata": {
        "colab": {
          "base_uri": "https://localhost:8080/"
        },
        "id": "nld0k7P-f_qK",
        "outputId": "59a4e5f6-3ae4-4ff9-a891-4d2106b8172a"
      },
      "execution_count": 33,
      "outputs": [
        {
          "output_type": "stream",
          "name": "stdout",
          "text": [
            "(5, 4)\n"
          ]
        }
      ]
    },
    {
      "cell_type": "markdown",
      "source": [
        "**Files and Directories**\n",
        "\n",
        "https://youtu.be/_uQrJ0TkZlc?t=13477"
      ],
      "metadata": {
        "id": "KLhYwG-7h6A5"
      }
    },
    {
      "cell_type": "code",
      "source": [
        "from pathlib import Path\n",
        "\n",
        "# we can either use an \"absolute path\" or a \"relative path\""
      ],
      "metadata": {
        "id": "iJ184XS7iJL6"
      },
      "execution_count": null,
      "outputs": []
    }
  ]
}